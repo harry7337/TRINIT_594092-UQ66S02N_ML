{
 "cells": [
  {
   "cell_type": "code",
   "execution_count": 11,
   "metadata": {},
   "outputs": [],
   "source": [
    "import pydap\n",
    "import netCDF4 as nc\n",
    "import pandas as pd\n",
    "import h5py\n",
    "import xarray as xr\n",
    "import geopy.distance\n",
    "import numpy as np\n",
    "import os"
   ]
  },
  {
   "attachments": {},
   "cell_type": "markdown",
   "metadata": {},
   "source": [
    "## Geographic distance between two points in km"
   ]
  },
  {
   "cell_type": "code",
   "execution_count": 2,
   "metadata": {},
   "outputs": [],
   "source": [
    "def getDist(c1,c2):\n",
    "    return geopy.distance.geodesic(c1, c2).km"
   ]
  },
  {
   "cell_type": "code",
   "execution_count": 15,
   "metadata": {},
   "outputs": [],
   "source": [
    "gosat_path = './gosat/2016/csv_folder/'\n",
    "oco2_path = './data_2016_oco2/csv_folder/'"
   ]
  },
  {
   "cell_type": "code",
   "execution_count": 24,
   "metadata": {},
   "outputs": [],
   "source": [
    "# combining datasets\n",
    "oco1 = pd.read_csv(os.path.join(oco2_path,'oco2_1ndjan2016.csv'))\n",
    "oco2 = pd.read_csv(os.path.join(oco2_path,'oco2_2ndjan2016.csv'))\n",
    "oco3 = pd.read_csv(os.path.join(oco2_path,'oco2_3rdjan2016.csv'))"
   ]
  },
  {
   "cell_type": "code",
   "execution_count": 25,
   "metadata": {},
   "outputs": [
    {
     "name": "stderr",
     "output_type": "stream",
     "text": [
      "/var/folders/wx/g95tcl_55cg_v5h5q3hkngmh0000gn/T/ipykernel_2034/103467373.py:1: FutureWarning: The frame.append method is deprecated and will be removed from pandas in a future version. Use pandas.concat instead.\n",
      "  oco1.append(oco2).append(oco3)\n"
     ]
    },
    {
     "data": {
      "text/html": [
       "<div>\n",
       "<style scoped>\n",
       "    .dataframe tbody tr th:only-of-type {\n",
       "        vertical-align: middle;\n",
       "    }\n",
       "\n",
       "    .dataframe tbody tr th {\n",
       "        vertical-align: top;\n",
       "    }\n",
       "\n",
       "    .dataframe thead th {\n",
       "        text-align: right;\n",
       "    }\n",
       "</style>\n",
       "<table border=\"1\" class=\"dataframe\">\n",
       "  <thead>\n",
       "    <tr style=\"text-align: right;\">\n",
       "      <th></th>\n",
       "      <th>Unnamed: 0</th>\n",
       "      <th>latitude</th>\n",
       "      <th>longitude</th>\n",
       "      <th>time</th>\n",
       "      <th>sensor_zenith_angle</th>\n",
       "      <th>xco2</th>\n",
       "      <th>xco2_uncertainty</th>\n",
       "      <th>xco2_apriori</th>\n",
       "      <th>dates</th>\n",
       "    </tr>\n",
       "  </thead>\n",
       "  <tbody>\n",
       "    <tr>\n",
       "      <th>0</th>\n",
       "      <td>0</td>\n",
       "      <td>-3.628539</td>\n",
       "      <td>-157.43341</td>\n",
       "      <td>1.451606e+09</td>\n",
       "      <td>22.461530</td>\n",
       "      <td>400.44990</td>\n",
       "      <td>0.393150</td>\n",
       "      <td>399.77917</td>\n",
       "      <td>2016-01-01 00:00:00.000</td>\n",
       "    </tr>\n",
       "    <tr>\n",
       "      <th>1</th>\n",
       "      <td>1</td>\n",
       "      <td>-3.639151</td>\n",
       "      <td>-157.43082</td>\n",
       "      <td>1.451606e+09</td>\n",
       "      <td>22.516706</td>\n",
       "      <td>400.22430</td>\n",
       "      <td>0.386413</td>\n",
       "      <td>399.77840</td>\n",
       "      <td>2016-01-01 00:00:00.000</td>\n",
       "    </tr>\n",
       "    <tr>\n",
       "      <th>2</th>\n",
       "      <td>2</td>\n",
       "      <td>-3.649849</td>\n",
       "      <td>-157.42830</td>\n",
       "      <td>1.451606e+09</td>\n",
       "      <td>22.573343</td>\n",
       "      <td>400.45795</td>\n",
       "      <td>0.384631</td>\n",
       "      <td>399.77770</td>\n",
       "      <td>2016-01-01 00:00:00.000</td>\n",
       "    </tr>\n",
       "    <tr>\n",
       "      <th>3</th>\n",
       "      <td>3</td>\n",
       "      <td>-3.660598</td>\n",
       "      <td>-157.42587</td>\n",
       "      <td>1.451606e+09</td>\n",
       "      <td>22.631292</td>\n",
       "      <td>399.87880</td>\n",
       "      <td>0.381401</td>\n",
       "      <td>399.78036</td>\n",
       "      <td>2016-01-01 00:00:00.000</td>\n",
       "    </tr>\n",
       "    <tr>\n",
       "      <th>4</th>\n",
       "      <td>4</td>\n",
       "      <td>-3.671286</td>\n",
       "      <td>-157.42354</td>\n",
       "      <td>1.451606e+09</td>\n",
       "      <td>22.689938</td>\n",
       "      <td>400.19666</td>\n",
       "      <td>0.379429</td>\n",
       "      <td>399.79030</td>\n",
       "      <td>2016-01-01 00:00:00.000</td>\n",
       "    </tr>\n",
       "    <tr>\n",
       "      <th>...</th>\n",
       "      <td>...</td>\n",
       "      <td>...</td>\n",
       "      <td>...</td>\n",
       "      <td>...</td>\n",
       "      <td>...</td>\n",
       "      <td>...</td>\n",
       "      <td>...</td>\n",
       "      <td>...</td>\n",
       "      <td>...</td>\n",
       "    </tr>\n",
       "    <tr>\n",
       "      <th>184035</th>\n",
       "      <td>184035</td>\n",
       "      <td>35.151627</td>\n",
       "      <td>-150.97835</td>\n",
       "      <td>1.451862e+09</td>\n",
       "      <td>46.409540</td>\n",
       "      <td>403.67450</td>\n",
       "      <td>0.487216</td>\n",
       "      <td>405.13090</td>\n",
       "      <td>2016-01-03 23:03:51.000</td>\n",
       "    </tr>\n",
       "    <tr>\n",
       "      <th>184036</th>\n",
       "      <td>184036</td>\n",
       "      <td>35.138103</td>\n",
       "      <td>-150.96680</td>\n",
       "      <td>1.451862e+09</td>\n",
       "      <td>46.476120</td>\n",
       "      <td>403.66240</td>\n",
       "      <td>0.472273</td>\n",
       "      <td>405.13605</td>\n",
       "      <td>2016-01-03 23:03:51.000</td>\n",
       "    </tr>\n",
       "    <tr>\n",
       "      <th>184037</th>\n",
       "      <td>184037</td>\n",
       "      <td>35.169296</td>\n",
       "      <td>-150.98486</td>\n",
       "      <td>1.451862e+09</td>\n",
       "      <td>46.420950</td>\n",
       "      <td>404.34457</td>\n",
       "      <td>0.474153</td>\n",
       "      <td>405.12418</td>\n",
       "      <td>2016-01-03 23:03:51.300</td>\n",
       "    </tr>\n",
       "    <tr>\n",
       "      <th>184038</th>\n",
       "      <td>184038</td>\n",
       "      <td>35.155770</td>\n",
       "      <td>-150.97331</td>\n",
       "      <td>1.451862e+09</td>\n",
       "      <td>46.487540</td>\n",
       "      <td>403.93440</td>\n",
       "      <td>0.516165</td>\n",
       "      <td>405.12933</td>\n",
       "      <td>2016-01-03 23:03:51.300</td>\n",
       "    </tr>\n",
       "    <tr>\n",
       "      <th>184039</th>\n",
       "      <td>184039</td>\n",
       "      <td>35.173470</td>\n",
       "      <td>-150.97986</td>\n",
       "      <td>1.451862e+09</td>\n",
       "      <td>46.498802</td>\n",
       "      <td>404.43405</td>\n",
       "      <td>0.470085</td>\n",
       "      <td>405.12265</td>\n",
       "      <td>2016-01-03 23:03:51.700</td>\n",
       "    </tr>\n",
       "  </tbody>\n",
       "</table>\n",
       "<p>559951 rows × 9 columns</p>\n",
       "</div>"
      ],
      "text/plain": [
       "        Unnamed: 0   latitude  longitude          time  sensor_zenith_angle  \\\n",
       "0                0  -3.628539 -157.43341  1.451606e+09            22.461530   \n",
       "1                1  -3.639151 -157.43082  1.451606e+09            22.516706   \n",
       "2                2  -3.649849 -157.42830  1.451606e+09            22.573343   \n",
       "3                3  -3.660598 -157.42587  1.451606e+09            22.631292   \n",
       "4                4  -3.671286 -157.42354  1.451606e+09            22.689938   \n",
       "...            ...        ...        ...           ...                  ...   \n",
       "184035      184035  35.151627 -150.97835  1.451862e+09            46.409540   \n",
       "184036      184036  35.138103 -150.96680  1.451862e+09            46.476120   \n",
       "184037      184037  35.169296 -150.98486  1.451862e+09            46.420950   \n",
       "184038      184038  35.155770 -150.97331  1.451862e+09            46.487540   \n",
       "184039      184039  35.173470 -150.97986  1.451862e+09            46.498802   \n",
       "\n",
       "             xco2  xco2_uncertainty  xco2_apriori                    dates  \n",
       "0       400.44990          0.393150     399.77917  2016-01-01 00:00:00.000  \n",
       "1       400.22430          0.386413     399.77840  2016-01-01 00:00:00.000  \n",
       "2       400.45795          0.384631     399.77770  2016-01-01 00:00:00.000  \n",
       "3       399.87880          0.381401     399.78036  2016-01-01 00:00:00.000  \n",
       "4       400.19666          0.379429     399.79030  2016-01-01 00:00:00.000  \n",
       "...           ...               ...           ...                      ...  \n",
       "184035  403.67450          0.487216     405.13090  2016-01-03 23:03:51.000  \n",
       "184036  403.66240          0.472273     405.13605  2016-01-03 23:03:51.000  \n",
       "184037  404.34457          0.474153     405.12418  2016-01-03 23:03:51.300  \n",
       "184038  403.93440          0.516165     405.12933  2016-01-03 23:03:51.300  \n",
       "184039  404.43405          0.470085     405.12265  2016-01-03 23:03:51.700  \n",
       "\n",
       "[559951 rows x 9 columns]"
      ]
     },
     "execution_count": 25,
     "metadata": {},
     "output_type": "execute_result"
    }
   ],
   "source": [
    "oco1.append(oco2).append(oco3)"
   ]
  },
  {
   "attachments": {},
   "cell_type": "markdown",
   "metadata": {},
   "source": [
    "### Get points that are close to each other"
   ]
  },
  {
   "cell_type": "code",
   "execution_count": 16,
   "metadata": {},
   "outputs": [],
   "source": [
    "combined_data = pd.DataFrame(columns = [\"dates\",\"latitude\",\"longitude\",\"time\",'sensor_zenith_angle', 'xco2', 'xco2_uncertainty', 'xco2_apriori' ])\n",
    "THRESHOLD = 3\n",
    "for gosat in os.listdir(gosat_path):    \n",
    "    df_gosat = pd.read_csv(os.path.join(gosat_path,gosat))\n",
    "    gosat_index = 0\n",
    "    for oco2 in os.listdir(oco2_path):\n",
    "        df_oco2 = pd.read_csv(os.path.join(oco2_path,oco2))\n",
    "        oco2_index = 0\n",
    "        dist = []\n",
    "        while oco2_index < len(df_oco2):\n",
    "            oco2_latitude = df_oco2.iloc[oco2_index][\"latitude\"]\n",
    "            oco2_longitude = df_oco2.iloc[oco2_index][\"longitude\"]\n",
    "            oco2_time = df_oco2.iloc[oco2_index][\"dates\"]\n",
    "            oco2_point = (oco2_latitude,oco2_longitude)\n",
    "            while gosat_index < len(df_gosat):\n",
    "                gosat_latitude = df_gosat.iloc[gosat_index][\"latitude\"]\n",
    "                gosat_longitude = df_gosat.iloc[gosat_index][\"longitude\"]\n",
    "                gosat_point = (gosat_latitude,gosat_longitude)\n",
    "                dist.append(getDist(oco2_point,gosat_point))\n",
    "                if dist<THRESHOLD:\n",
    "                    print('Found close points')\n",
    "                    combined_xco2 = (df_oco2.iloc[oco2_index][\"xco2\"] + df_gosat.iloc[gosat_index][\"xco2\"]) / 2\n",
    "                    combined_data = combined_data.append({\"time\": oco2_time, \"latitude\": oco2_latitude, \"longitude\": oco2_longitude, \"xco2\": combined_xco2},ignore_index=True)\n",
    "                gosat_index += 1\n",
    "            oco2_index += 1\n",
    "    \n",
    "\n",
    "# Save the combined data to a CSV file\n",
    "combined_data.to_csv(\"combined_data.csv\", index=False)\n"
   ]
  },
  {
   "cell_type": "code",
   "execution_count": 17,
   "metadata": {},
   "outputs": [
    {
     "data": {
      "text/html": [
       "<div>\n",
       "<style scoped>\n",
       "    .dataframe tbody tr th:only-of-type {\n",
       "        vertical-align: middle;\n",
       "    }\n",
       "\n",
       "    .dataframe tbody tr th {\n",
       "        vertical-align: top;\n",
       "    }\n",
       "\n",
       "    .dataframe thead th {\n",
       "        text-align: right;\n",
       "    }\n",
       "</style>\n",
       "<table border=\"1\" class=\"dataframe\">\n",
       "  <thead>\n",
       "    <tr style=\"text-align: right;\">\n",
       "      <th></th>\n",
       "      <th>dates</th>\n",
       "      <th>latitude</th>\n",
       "      <th>longitude</th>\n",
       "      <th>time</th>\n",
       "      <th>sensor_zenith_angle</th>\n",
       "      <th>xco2</th>\n",
       "      <th>xco2_uncertainty</th>\n",
       "      <th>xco2_apriori</th>\n",
       "    </tr>\n",
       "  </thead>\n",
       "  <tbody>\n",
       "  </tbody>\n",
       "</table>\n",
       "</div>"
      ],
      "text/plain": [
       "Empty DataFrame\n",
       "Columns: [dates, latitude, longitude, time, sensor_zenith_angle, xco2, xco2_uncertainty, xco2_apriori]\n",
       "Index: []"
      ]
     },
     "execution_count": 17,
     "metadata": {},
     "output_type": "execute_result"
    }
   ],
   "source": [
    "combined_data"
   ]
  },
  {
   "cell_type": "code",
   "execution_count": 10,
   "metadata": {},
   "outputs": [
    {
     "data": {
      "text/plain": [
       "16677.370627958942"
      ]
     },
     "execution_count": 10,
     "metadata": {},
     "output_type": "execute_result"
    }
   ],
   "source": [
    "max(dist)"
   ]
  },
  {
   "cell_type": "code",
   "execution_count": null,
   "metadata": {},
   "outputs": [],
   "source": []
  }
 ],
 "metadata": {
  "kernelspec": {
   "display_name": "ml02",
   "language": "python",
   "name": "python3"
  },
  "language_info": {
   "codemirror_mode": {
    "name": "ipython",
    "version": 3
   },
   "file_extension": ".py",
   "mimetype": "text/x-python",
   "name": "python",
   "nbconvert_exporter": "python",
   "pygments_lexer": "ipython3",
   "version": "3.11.0"
  },
  "orig_nbformat": 4,
  "vscode": {
   "interpreter": {
    "hash": "dc48d6c5b62183da2ecf6f2901d0ea11592ad273057e0a8942cd8fdcb9d7d527"
   }
  }
 },
 "nbformat": 4,
 "nbformat_minor": 2
}
