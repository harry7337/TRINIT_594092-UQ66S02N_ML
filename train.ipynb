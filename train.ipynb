{
 "cells": [
  {
   "attachments": {},
   "cell_type": "markdown",
   "metadata": {},
   "source": [
    "# Initialize dataset\n",
    "We will train our ensemble model on 6 days worth of data i.e 1st Jan 2016 to 6th Jan 2016 & we will use 7th Jan 2016 as a test set."
   ]
  },
  {
   "cell_type": "code",
   "execution_count": 1,
   "metadata": {},
   "outputs": [],
   "source": [
    "import pandas as pd"
   ]
  },
  {
   "cell_type": "code",
   "execution_count": null,
   "metadata": {},
   "outputs": [],
   "source": [
    "# FOr OCO2\n",
    "oco_path = './data_2016_oco2/csv_folder/'\n",
    "oco_jan_train = pd.read_csv(f'{oco_path}oco2_LtCO2_160101_B10206Ar_200730102710s.csv')\n",
    "oco_jan_train = pd.concat([oco_jan_train,pd.read_csv(f'{oco_path}oco2_LtCO2_160102_B10206Ar_200730102859s.csv')])\n",
    "oco_jan_train = pd.concat([oco_jan_train,pd.read_csv(f'{oco_path}oco2_LtCO2_160103_B10206Ar_200730102932s.csv')])\n",
    "oco_jan_train = pd.concat([oco_jan_train,pd.read_csv(f'{oco_path}oco2_LtCO2_160104_B10206Ar_200730102937s.csv')])\n",
    "oco_jan_train = pd.concat([oco_jan_train,pd.read_csv(f'{oco_path}oco2_LtCO2_160105_B10206Ar_200730103055s.csv')])\n",
    "oco_jan_train = pd.concat([oco_jan_train,pd.read_csv(f'{oco_path}oco2_LtCO2_160106_B10206Ar_200730103123s.csv')])\n",
    "\n",
    "# FOr GOSAT\n",
    "gosat_path = './gosat/2016/csv_folder/'\n",
    "gosat_jan_train = pd.read_csv(f'{oco_path}oco2_LtCO2_160101_B10206Ar_200730102710s.csv')\n",
    "gosat_jan_train = pd.concat([gosat_jan_train,pd.read_csv(f'{gosat_path}oco2_LtCO2_160102_B10206Ar_200730102859s.csv')])\n",
    "gosat_jan_train = pd.concat([gosat_jan_train,pd.read_csv(f'{gosat_path}oco2_LtCO2_160103_B10206Ar_200730102932s.csv')])\n",
    "gosat_jan_train = pd.concat([gosat_jan_train,pd.read_csv(f'{gosat_path}oco2_LtCO2_160104_B10206Ar_200730102937s.csv')])\n",
    "gosat_jan_train = pd.concat([gosat_jan_train,pd.read_csv(f'{gosat_path}oco2_LtCO2_160105_B10206Ar_200730103055s.csv')])\n",
    "gosat_jan_train = pd.concat([gosat_jan_train,pd.read_csv(f'{gosat_path}oco2_LtCO2_160106_B10206Ar_200730103123s.csv')])\n",
    "\n",
    "complete_dataset = pd.concat([oco_jan_train,gosat_jan_train])\n",
    "complete_dataset"
   ]
  },
  {
   "attachments": {},
   "cell_type": "markdown",
   "metadata": {},
   "source": [
    "### Multiplying pressure levels with their corresponding pressure weights"
   ]
  },
  {
   "cell_type": "code",
   "execution_count": null,
   "metadata": {},
   "outputs": [],
   "source": []
  },
  {
   "cell_type": "code",
   "execution_count": null,
   "metadata": {},
   "outputs": [],
   "source": [
    "from sklearn.pipeline import make_pipeline\n",
    "from sklearn.preprocessing import StandardScaler"
   ]
  },
  {
   "cell_type": "code",
   "execution_count": null,
   "metadata": {},
   "outputs": [],
   "source": [
    "y = complete_dataset['xco2'].to_numpy()\n",
    "complete_dataset = complete_dataset.drop(columns=['xco2','dates','point'])\n",
    "X = complete_dataset.to_numpy()"
   ]
  },
  {
   "attachments": {},
   "cell_type": "markdown",
   "metadata": {},
   "source": [
    "# K-nearest neighbours Regressor"
   ]
  },
  {
   "cell_type": "code",
   "execution_count": null,
   "metadata": {},
   "outputs": [],
   "source": [
    "\n",
    "from sklearn.neighbors import KNeighborsRegressor\n",
    "knn = KNeighborsRegressor(n_neighbors=5,weights='distance',n_jobs=-1)\n",
    "# knn.fit(X,y)"
   ]
  },
  {
   "attachments": {},
   "cell_type": "markdown",
   "metadata": {},
   "source": [
    "# Support Vector Regressor"
   ]
  },
  {
   "cell_type": "code",
   "execution_count": null,
   "metadata": {},
   "outputs": [],
   "source": [
    "from sklearn.svm import SVR\n",
    "\n",
    "svr = SVR(kernel='poly',degree=6)\n",
    "regr = make_pipeline(StandardScaler(), svr)\n",
    "# regr.fit(X,y)"
   ]
  },
  {
   "attachments": {},
   "cell_type": "markdown",
   "metadata": {},
   "source": [
    "# Random Forest Regressor"
   ]
  },
  {
   "attachments": {},
   "cell_type": "markdown",
   "metadata": {},
   "source": [
    "from sklearn.ensemble import RandomForestRegressor as rfr\n",
    "\n",
    "rf = rfr(criterion='friedman_mse',n_job=-1,random_state=42)\n",
    "<!-- rf.fit(X,y) -->"
   ]
  },
  {
   "attachments": {},
   "cell_type": "markdown",
   "metadata": {},
   "source": [
    "# Adaboost Regressor"
   ]
  },
  {
   "attachments": {},
   "cell_type": "markdown",
   "metadata": {},
   "source": [
    "from sklearn.ensemble import AdaBoostRegressor,StackingRegressor\n",
    "\n",
    "ada = AdaBoostRegressor(n_estimator=100,learning_rate=0.1,random_state=42)\n",
    "<!-- ada.fit(X,y) -->"
   ]
  },
  {
   "attachments": {},
   "cell_type": "markdown",
   "metadata": {},
   "source": [
    "# Ensemble of all models"
   ]
  },
  {
   "attachments": {},
   "cell_type": "markdown",
   "metadata": {},
   "source": [
    "estimators = [\n",
    "    ('Knn',knn),\n",
    "    ('svr',svr),\n",
    "    ('rf',rfr),\n",
    "    ('ada',ada)\n",
    "]\n",
    "model = StackingRegressor(estimators,cv=10,n_jobs=-1)\n",
    "model.fit(X,y)"
   ]
  }
 ],
 "metadata": {
  "kernelspec": {
   "display_name": "ml02",
   "language": "python",
   "name": "python3"
  },
  "language_info": {
   "codemirror_mode": {
    "name": "ipython",
    "version": 3
   },
   "file_extension": ".py",
   "mimetype": "text/x-python",
   "name": "python",
   "nbconvert_exporter": "python",
   "pygments_lexer": "ipython3",
   "version": "3.11.0"
  },
  "orig_nbformat": 4,
  "vscode": {
   "interpreter": {
    "hash": "dc48d6c5b62183da2ecf6f2901d0ea11592ad273057e0a8942cd8fdcb9d7d527"
   }
  }
 },
 "nbformat": 4,
 "nbformat_minor": 2
}
