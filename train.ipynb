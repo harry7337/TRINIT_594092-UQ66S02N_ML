{
 "cells": [
  {
   "attachments": {},
   "cell_type": "markdown",
   "metadata": {},
   "source": [
    "# Initialize dataset\n",
    "We will train our ensemble model on 6 days worth of data i.e 1st Jan 2016 to 6th Jan 2016 & we will use 7th Jan 2016 as a test set."
   ]
  },
  {
   "cell_type": "code",
   "execution_count": 3,
   "metadata": {},
   "outputs": [],
   "source": [
    "import pandas as pd\n",
    "import numpy as np"
   ]
  },
  {
   "cell_type": "code",
   "execution_count": 4,
   "metadata": {},
   "outputs": [
    {
     "data": {
      "text/html": [
       "<div>\n",
       "<style scoped>\n",
       "    .dataframe tbody tr th:only-of-type {\n",
       "        vertical-align: middle;\n",
       "    }\n",
       "\n",
       "    .dataframe tbody tr th {\n",
       "        vertical-align: top;\n",
       "    }\n",
       "\n",
       "    .dataframe thead th {\n",
       "        text-align: right;\n",
       "    }\n",
       "</style>\n",
       "<table border=\"1\" class=\"dataframe\">\n",
       "  <thead>\n",
       "    <tr style=\"text-align: right;\">\n",
       "      <th></th>\n",
       "      <th>Unnamed: 0</th>\n",
       "      <th>sounding_id</th>\n",
       "      <th>latitude</th>\n",
       "      <th>longitude</th>\n",
       "      <th>time</th>\n",
       "      <th>solar_zenith_angle</th>\n",
       "      <th>sensor_zenith_angle</th>\n",
       "      <th>xco2_quality_flag</th>\n",
       "      <th>xco2</th>\n",
       "      <th>xco2_uncertainty</th>\n",
       "      <th>xco2_apriori</th>\n",
       "      <th>pressure_levels</th>\n",
       "      <th>co2_profile_apriori</th>\n",
       "      <th>pressure_weight</th>\n",
       "      <th>dates</th>\n",
       "    </tr>\n",
       "  </thead>\n",
       "  <tbody>\n",
       "    <tr>\n",
       "      <th>0</th>\n",
       "      <td>0</td>\n",
       "      <td>2016010100000001</td>\n",
       "      <td>-3.628539</td>\n",
       "      <td>-157.433410</td>\n",
       "      <td>1.451606e+09</td>\n",
       "      <td>28.671078</td>\n",
       "      <td>22.461530</td>\n",
       "      <td>0</td>\n",
       "      <td>400.44990</td>\n",
       "      <td>0.393150</td>\n",
       "      <td>399.77917</td>\n",
       "      <td>[1.00995935e-01 5.31557617e+01 1.06311523e+02 ...</td>\n",
       "      <td>[387.422   397.72934 400.409   400.39108 400.3...</td>\n",
       "      <td>[0.02657261 0.05313887 0.0531075  0.05306237 0...</td>\n",
       "      <td>2016-01-01 00:00:00.000</td>\n",
       "    </tr>\n",
       "    <tr>\n",
       "      <th>1</th>\n",
       "      <td>1</td>\n",
       "      <td>2016010100000002</td>\n",
       "      <td>-3.639151</td>\n",
       "      <td>-157.430820</td>\n",
       "      <td>1.451606e+09</td>\n",
       "      <td>28.665552</td>\n",
       "      <td>22.516706</td>\n",
       "      <td>0</td>\n",
       "      <td>400.22430</td>\n",
       "      <td>0.386413</td>\n",
       "      <td>399.77840</td>\n",
       "      <td>[1.0101848e-01 5.3167622e+01 1.0633524e+02 1.5...</td>\n",
       "      <td>[387.4222  397.7341  400.4082  400.39023 400.3...</td>\n",
       "      <td>[0.02657339 0.05314041 0.053109   0.05306383 0...</td>\n",
       "      <td>2016-01-01 00:00:00.000</td>\n",
       "    </tr>\n",
       "    <tr>\n",
       "      <th>2</th>\n",
       "      <td>2</td>\n",
       "      <td>2016010100000003</td>\n",
       "      <td>-3.649849</td>\n",
       "      <td>-157.428300</td>\n",
       "      <td>1.451606e+09</td>\n",
       "      <td>28.659916</td>\n",
       "      <td>22.573343</td>\n",
       "      <td>0</td>\n",
       "      <td>400.45795</td>\n",
       "      <td>0.384631</td>\n",
       "      <td>399.77770</td>\n",
       "      <td>[1.0106002e-01 5.3189480e+01 1.0637896e+02 1.5...</td>\n",
       "      <td>[387.42245 397.73914 400.4074  400.38943 400.3...</td>\n",
       "      <td>[0.02657299 0.05313963 0.05310828 0.05306312 0...</td>\n",
       "      <td>2016-01-01 00:00:00.000</td>\n",
       "    </tr>\n",
       "    <tr>\n",
       "      <th>3</th>\n",
       "      <td>3</td>\n",
       "      <td>2016010100000004</td>\n",
       "      <td>-3.660598</td>\n",
       "      <td>-157.425870</td>\n",
       "      <td>1.451606e+09</td>\n",
       "      <td>28.654184</td>\n",
       "      <td>22.631292</td>\n",
       "      <td>0</td>\n",
       "      <td>399.87880</td>\n",
       "      <td>0.381401</td>\n",
       "      <td>399.78036</td>\n",
       "      <td>[1.00973181e-01 5.31437836e+01 1.06287567e+02 ...</td>\n",
       "      <td>[387.42267 397.8085  400.40662 400.38858 400.3...</td>\n",
       "      <td>[0.02657142 0.05313647 0.0531051  0.05305999 0...</td>\n",
       "      <td>2016-01-01 00:00:00.000</td>\n",
       "    </tr>\n",
       "    <tr>\n",
       "      <th>4</th>\n",
       "      <td>4</td>\n",
       "      <td>2016010100000005</td>\n",
       "      <td>-3.671286</td>\n",
       "      <td>-157.423540</td>\n",
       "      <td>1.451606e+09</td>\n",
       "      <td>28.648420</td>\n",
       "      <td>22.689938</td>\n",
       "      <td>0</td>\n",
       "      <td>400.19666</td>\n",
       "      <td>0.379429</td>\n",
       "      <td>399.79030</td>\n",
       "      <td>[1.0098369e-01 5.3149311e+01 1.0629862e+02 1.5...</td>\n",
       "      <td>[387.30994 397.78735 400.423   400.4048  400.3...</td>\n",
       "      <td>[0.02657187 0.05313739 0.05310604 0.05306092 0...</td>\n",
       "      <td>2016-01-01 00:00:00.000</td>\n",
       "    </tr>\n",
       "    <tr>\n",
       "      <th>...</th>\n",
       "      <td>...</td>\n",
       "      <td>...</td>\n",
       "      <td>...</td>\n",
       "      <td>...</td>\n",
       "      <td>...</td>\n",
       "      <td>...</td>\n",
       "      <td>...</td>\n",
       "      <td>...</td>\n",
       "      <td>...</td>\n",
       "      <td>...</td>\n",
       "      <td>...</td>\n",
       "      <td>...</td>\n",
       "      <td>...</td>\n",
       "      <td>...</td>\n",
       "      <td>...</td>\n",
       "    </tr>\n",
       "    <tr>\n",
       "      <th>1471</th>\n",
       "      <td>1471</td>\n",
       "      <td>20160103230232</td>\n",
       "      <td>-72.796630</td>\n",
       "      <td>63.595870</td>\n",
       "      <td>1.451862e+09</td>\n",
       "      <td>79.159560</td>\n",
       "      <td>25.803656</td>\n",
       "      <td>1</td>\n",
       "      <td>395.92746</td>\n",
       "      <td>6.408211</td>\n",
       "      <td>399.11400</td>\n",
       "      <td>[8.1402943e-02 4.2843655e+01 8.5687309e+01 1.2...</td>\n",
       "      <td>[390.62408 394.19153 395.73657 396.92206 397.9...</td>\n",
       "      <td>[0.02642437 0.05283612 0.05279506 0.05274847 0...</td>\n",
       "      <td>2016-01-03 23:02:32</td>\n",
       "    </tr>\n",
       "    <tr>\n",
       "      <th>1472</th>\n",
       "      <td>1472</td>\n",
       "      <td>20160103230237</td>\n",
       "      <td>-72.799835</td>\n",
       "      <td>63.595005</td>\n",
       "      <td>1.451862e+09</td>\n",
       "      <td>79.153490</td>\n",
       "      <td>24.909855</td>\n",
       "      <td>1</td>\n",
       "      <td>388.26947</td>\n",
       "      <td>6.515233</td>\n",
       "      <td>399.11407</td>\n",
       "      <td>[8.1405453e-02 4.2844975e+01 8.5689949e+01 1.2...</td>\n",
       "      <td>[390.6241  394.19162 395.7367  396.9222  397.9...</td>\n",
       "      <td>[0.02642319 0.05283365 0.05279241 0.05274574 0...</td>\n",
       "      <td>2016-01-03 23:02:37</td>\n",
       "    </tr>\n",
       "    <tr>\n",
       "      <th>1473</th>\n",
       "      <td>1473</td>\n",
       "      <td>20160103230256</td>\n",
       "      <td>-75.458380</td>\n",
       "      <td>48.227787</td>\n",
       "      <td>1.451862e+09</td>\n",
       "      <td>79.597115</td>\n",
       "      <td>24.333351</td>\n",
       "      <td>1</td>\n",
       "      <td>404.20750</td>\n",
       "      <td>6.453901</td>\n",
       "      <td>398.72412</td>\n",
       "      <td>[6.2807128e-02 3.3056385e+01 6.6112770e+01 9.9...</td>\n",
       "      <td>[390.60468 393.74557 395.10587 396.14966 397.0...</td>\n",
       "      <td>[0.02641851 0.05282429 0.05278252 0.052735   0...</td>\n",
       "      <td>2016-01-03 23:02:56</td>\n",
       "    </tr>\n",
       "    <tr>\n",
       "      <th>1474</th>\n",
       "      <td>1474</td>\n",
       "      <td>20160103230300</td>\n",
       "      <td>-75.469030</td>\n",
       "      <td>48.246080</td>\n",
       "      <td>1.451862e+09</td>\n",
       "      <td>79.583160</td>\n",
       "      <td>24.877483</td>\n",
       "      <td>1</td>\n",
       "      <td>408.33010</td>\n",
       "      <td>6.208292</td>\n",
       "      <td>398.72403</td>\n",
       "      <td>[6.2881038e-02 3.3095284e+01 6.6190567e+01 9.9...</td>\n",
       "      <td>[390.60464 393.74545 395.10574 396.14954 397.0...</td>\n",
       "      <td>[0.02641833 0.05282384 0.05278192 0.05273434 0...</td>\n",
       "      <td>2016-01-03 23:03:00</td>\n",
       "    </tr>\n",
       "    <tr>\n",
       "      <th>1475</th>\n",
       "      <td>1475</td>\n",
       "      <td>20160103230305</td>\n",
       "      <td>-75.479470</td>\n",
       "      <td>48.266888</td>\n",
       "      <td>1.451862e+09</td>\n",
       "      <td>79.569080</td>\n",
       "      <td>25.675953</td>\n",
       "      <td>1</td>\n",
       "      <td>400.17490</td>\n",
       "      <td>5.849572</td>\n",
       "      <td>398.72390</td>\n",
       "      <td>[6.2872767e-02 3.3090931e+01 6.6181862e+01 9.9...</td>\n",
       "      <td>[390.60464 393.7454  395.10562 396.1494  397.0...</td>\n",
       "      <td>[0.02641841 0.05282395 0.05278198 0.05273436 0...</td>\n",
       "      <td>2016-01-03 23:03:05</td>\n",
       "    </tr>\n",
       "  </tbody>\n",
       "</table>\n",
       "<p>563073 rows × 15 columns</p>\n",
       "</div>"
      ],
      "text/plain": [
       "      Unnamed: 0       sounding_id   latitude   longitude          time  \\\n",
       "0              0  2016010100000001  -3.628539 -157.433410  1.451606e+09   \n",
       "1              1  2016010100000002  -3.639151 -157.430820  1.451606e+09   \n",
       "2              2  2016010100000003  -3.649849 -157.428300  1.451606e+09   \n",
       "3              3  2016010100000004  -3.660598 -157.425870  1.451606e+09   \n",
       "4              4  2016010100000005  -3.671286 -157.423540  1.451606e+09   \n",
       "...          ...               ...        ...         ...           ...   \n",
       "1471        1471    20160103230232 -72.796630   63.595870  1.451862e+09   \n",
       "1472        1472    20160103230237 -72.799835   63.595005  1.451862e+09   \n",
       "1473        1473    20160103230256 -75.458380   48.227787  1.451862e+09   \n",
       "1474        1474    20160103230300 -75.469030   48.246080  1.451862e+09   \n",
       "1475        1475    20160103230305 -75.479470   48.266888  1.451862e+09   \n",
       "\n",
       "      solar_zenith_angle  sensor_zenith_angle  xco2_quality_flag       xco2  \\\n",
       "0              28.671078            22.461530                  0  400.44990   \n",
       "1              28.665552            22.516706                  0  400.22430   \n",
       "2              28.659916            22.573343                  0  400.45795   \n",
       "3              28.654184            22.631292                  0  399.87880   \n",
       "4              28.648420            22.689938                  0  400.19666   \n",
       "...                  ...                  ...                ...        ...   \n",
       "1471           79.159560            25.803656                  1  395.92746   \n",
       "1472           79.153490            24.909855                  1  388.26947   \n",
       "1473           79.597115            24.333351                  1  404.20750   \n",
       "1474           79.583160            24.877483                  1  408.33010   \n",
       "1475           79.569080            25.675953                  1  400.17490   \n",
       "\n",
       "      xco2_uncertainty  xco2_apriori  \\\n",
       "0             0.393150     399.77917   \n",
       "1             0.386413     399.77840   \n",
       "2             0.384631     399.77770   \n",
       "3             0.381401     399.78036   \n",
       "4             0.379429     399.79030   \n",
       "...                ...           ...   \n",
       "1471          6.408211     399.11400   \n",
       "1472          6.515233     399.11407   \n",
       "1473          6.453901     398.72412   \n",
       "1474          6.208292     398.72403   \n",
       "1475          5.849572     398.72390   \n",
       "\n",
       "                                        pressure_levels  \\\n",
       "0     [1.00995935e-01 5.31557617e+01 1.06311523e+02 ...   \n",
       "1     [1.0101848e-01 5.3167622e+01 1.0633524e+02 1.5...   \n",
       "2     [1.0106002e-01 5.3189480e+01 1.0637896e+02 1.5...   \n",
       "3     [1.00973181e-01 5.31437836e+01 1.06287567e+02 ...   \n",
       "4     [1.0098369e-01 5.3149311e+01 1.0629862e+02 1.5...   \n",
       "...                                                 ...   \n",
       "1471  [8.1402943e-02 4.2843655e+01 8.5687309e+01 1.2...   \n",
       "1472  [8.1405453e-02 4.2844975e+01 8.5689949e+01 1.2...   \n",
       "1473  [6.2807128e-02 3.3056385e+01 6.6112770e+01 9.9...   \n",
       "1474  [6.2881038e-02 3.3095284e+01 6.6190567e+01 9.9...   \n",
       "1475  [6.2872767e-02 3.3090931e+01 6.6181862e+01 9.9...   \n",
       "\n",
       "                                    co2_profile_apriori  \\\n",
       "0     [387.422   397.72934 400.409   400.39108 400.3...   \n",
       "1     [387.4222  397.7341  400.4082  400.39023 400.3...   \n",
       "2     [387.42245 397.73914 400.4074  400.38943 400.3...   \n",
       "3     [387.42267 397.8085  400.40662 400.38858 400.3...   \n",
       "4     [387.30994 397.78735 400.423   400.4048  400.3...   \n",
       "...                                                 ...   \n",
       "1471  [390.62408 394.19153 395.73657 396.92206 397.9...   \n",
       "1472  [390.6241  394.19162 395.7367  396.9222  397.9...   \n",
       "1473  [390.60468 393.74557 395.10587 396.14966 397.0...   \n",
       "1474  [390.60464 393.74545 395.10574 396.14954 397.0...   \n",
       "1475  [390.60464 393.7454  395.10562 396.1494  397.0...   \n",
       "\n",
       "                                        pressure_weight  \\\n",
       "0     [0.02657261 0.05313887 0.0531075  0.05306237 0...   \n",
       "1     [0.02657339 0.05314041 0.053109   0.05306383 0...   \n",
       "2     [0.02657299 0.05313963 0.05310828 0.05306312 0...   \n",
       "3     [0.02657142 0.05313647 0.0531051  0.05305999 0...   \n",
       "4     [0.02657187 0.05313739 0.05310604 0.05306092 0...   \n",
       "...                                                 ...   \n",
       "1471  [0.02642437 0.05283612 0.05279506 0.05274847 0...   \n",
       "1472  [0.02642319 0.05283365 0.05279241 0.05274574 0...   \n",
       "1473  [0.02641851 0.05282429 0.05278252 0.052735   0...   \n",
       "1474  [0.02641833 0.05282384 0.05278192 0.05273434 0...   \n",
       "1475  [0.02641841 0.05282395 0.05278198 0.05273436 0...   \n",
       "\n",
       "                        dates  \n",
       "0     2016-01-01 00:00:00.000  \n",
       "1     2016-01-01 00:00:00.000  \n",
       "2     2016-01-01 00:00:00.000  \n",
       "3     2016-01-01 00:00:00.000  \n",
       "4     2016-01-01 00:00:00.000  \n",
       "...                       ...  \n",
       "1471      2016-01-03 23:02:32  \n",
       "1472      2016-01-03 23:02:37  \n",
       "1473      2016-01-03 23:02:56  \n",
       "1474      2016-01-03 23:03:00  \n",
       "1475      2016-01-03 23:03:05  \n",
       "\n",
       "[563073 rows x 15 columns]"
      ]
     },
     "execution_count": 4,
     "metadata": {},
     "output_type": "execute_result"
    }
   ],
   "source": [
    "# FOr OCO2\n",
    "oco_path = './data_2016_oco2/csv_folder/'\n",
    "oco_jan_train = pd.read_csv(f'{oco_path}oco2_LtCO2_160101_B10206Ar_200730102710s.csv')\n",
    "oco_jan_train = pd.concat([oco_jan_train,pd.read_csv(f'{oco_path}oco2_LtCO2_160102_B10206Ar_200730102859s.csv')])\n",
    "oco_jan_train = pd.concat([oco_jan_train,pd.read_csv(f'{oco_path}oco2_LtCO2_160103_B10206Ar_200730102932s.csv')])\n",
    "# oco_jan_train = pd.concat([oco_jan_train,pd.read_csv(f'{oco_path}oco2_LtCO2_160104_B10206Ar_200730102937s.csv')])\n",
    "# oco_jan_train = pd.concat([oco_jan_train,pd.read_csv(f'{oco_path}oco2_LtCO2_160105_B10206Ar_200730103055s.csv')])\n",
    "# oco_jan_train = pd.concat([oco_jan_train,pd.read_csv(f'{oco_path}oco2_LtCO2_160106_B10206Ar_200730103123s.csv')])\n",
    "\n",
    "# FOr GOSAT\n",
    "gosat_path = './gosat/2016/csv_folder/'\n",
    "gosat_jan_train = pd.read_csv(f'{gosat_path}acos_LtCO2_160101_v201201_B7310A_161107211943s.csv')\n",
    "gosat_jan_train = pd.concat([gosat_jan_train,pd.read_csv(f'{gosat_path}acos_LtCO2_160102_v201201_B7310A_161107211938s.csv')])\n",
    "gosat_jan_train = pd.concat([gosat_jan_train,pd.read_csv(f'{gosat_path}acos_LtCO2_160103_v201201_B7310A_161107211931s.csv')])\n",
    "# gosat_jan_train = pd.concat([gosat_jan_train,pd.read_csv(f'{gosat_path}acos_LtCO2_160104_v201201_B7310A_161107211923s.csv')])\n",
    "# gosat_jan_train = pd.concat([gosat_jan_train,pd.read_csv(f'{gosat_path}oco2_LtCO2_160105_B10206Ar_200730103055s.csv')])\n",
    "# gosat_jan_train = pd.concat([gosat_jan_train,pd.read_csv(f'{gosat_path}oco2_LtCO2_160106_B10206Ar_200730103123s.csv')])\n",
    "\n",
    "complete_dataset = pd.concat([oco_jan_train,gosat_jan_train])\n",
    "complete_dataset"
   ]
  },
  {
   "attachments": {},
   "cell_type": "markdown",
   "metadata": {},
   "source": [
    "### Multiplying pressure levels with their corresponding pressure weights"
   ]
  },
  {
   "cell_type": "code",
   "execution_count": 5,
   "metadata": {},
   "outputs": [],
   "source": [
    "def aggregatePressureLevels(dataset):\n",
    "    p_levels = dataset['pressure_levels'].to_numpy()\n",
    "    outer =[]\n",
    "    for i in range(p_levels.shape[0]):\n",
    "        inner = []\n",
    "        for s in p_levels[i].split(' '):\n",
    "            if s[0]=='[':\n",
    "                s = s[1:]\n",
    "            if s[-1]=='\\n' or s[-1]==']':\n",
    "                s = s[:-1]\n",
    "            inner.append(float(s))\n",
    "        outer.append(inner)\n",
    "    p_levels = np.array(outer)\n",
    "    # take average of all pressure levels\n",
    "    p_levels = p_levels.mean(axis=1)\n",
    "    return p_levels"
   ]
  },
  {
   "cell_type": "code",
   "execution_count": 7,
   "metadata": {},
   "outputs": [
    {
     "ename": "AttributeError",
     "evalue": "'numpy.float64' object has no attribute 'split'",
     "output_type": "error",
     "traceback": [
      "\u001b[0;31m---------------------------------------------------------------------------\u001b[0m",
      "\u001b[0;31mAttributeError\u001b[0m                            Traceback (most recent call last)",
      "\u001b[0;32m/tmp/ipykernel_304135/3041006917.py\u001b[0m in \u001b[0;36m<module>\u001b[0;34m\u001b[0m\n\u001b[0;32m----> 1\u001b[0;31m \u001b[0mcomplete_dataset\u001b[0m\u001b[0;34m[\u001b[0m\u001b[0;34m'pressure_levels'\u001b[0m\u001b[0;34m]\u001b[0m \u001b[0;34m=\u001b[0m \u001b[0maggregatePressureLevels\u001b[0m\u001b[0;34m(\u001b[0m\u001b[0mcomplete_dataset\u001b[0m\u001b[0;34m)\u001b[0m\u001b[0;34m\u001b[0m\u001b[0;34m\u001b[0m\u001b[0m\n\u001b[0m",
      "\u001b[0;32m/tmp/ipykernel_304135/763533090.py\u001b[0m in \u001b[0;36maggregatePressureLevels\u001b[0;34m(dataset)\u001b[0m\n\u001b[1;32m      4\u001b[0m     \u001b[0;32mfor\u001b[0m \u001b[0mi\u001b[0m \u001b[0;32min\u001b[0m \u001b[0mrange\u001b[0m\u001b[0;34m(\u001b[0m\u001b[0mp_levels\u001b[0m\u001b[0;34m.\u001b[0m\u001b[0mshape\u001b[0m\u001b[0;34m[\u001b[0m\u001b[0;36m0\u001b[0m\u001b[0;34m]\u001b[0m\u001b[0;34m)\u001b[0m\u001b[0;34m:\u001b[0m\u001b[0;34m\u001b[0m\u001b[0;34m\u001b[0m\u001b[0m\n\u001b[1;32m      5\u001b[0m         \u001b[0minner\u001b[0m \u001b[0;34m=\u001b[0m \u001b[0;34m[\u001b[0m\u001b[0;34m]\u001b[0m\u001b[0;34m\u001b[0m\u001b[0;34m\u001b[0m\u001b[0m\n\u001b[0;32m----> 6\u001b[0;31m         \u001b[0;32mfor\u001b[0m \u001b[0ms\u001b[0m \u001b[0;32min\u001b[0m \u001b[0mp_levels\u001b[0m\u001b[0;34m[\u001b[0m\u001b[0mi\u001b[0m\u001b[0;34m]\u001b[0m\u001b[0;34m.\u001b[0m\u001b[0msplit\u001b[0m\u001b[0;34m(\u001b[0m\u001b[0;34m' '\u001b[0m\u001b[0;34m)\u001b[0m\u001b[0;34m:\u001b[0m\u001b[0;34m\u001b[0m\u001b[0;34m\u001b[0m\u001b[0m\n\u001b[0m\u001b[1;32m      7\u001b[0m             \u001b[0;32mif\u001b[0m \u001b[0ms\u001b[0m\u001b[0;34m[\u001b[0m\u001b[0;36m0\u001b[0m\u001b[0;34m]\u001b[0m\u001b[0;34m==\u001b[0m\u001b[0;34m'['\u001b[0m\u001b[0;34m:\u001b[0m\u001b[0;34m\u001b[0m\u001b[0;34m\u001b[0m\u001b[0m\n\u001b[1;32m      8\u001b[0m                 \u001b[0ms\u001b[0m \u001b[0;34m=\u001b[0m \u001b[0ms\u001b[0m\u001b[0;34m[\u001b[0m\u001b[0;36m1\u001b[0m\u001b[0;34m:\u001b[0m\u001b[0;34m]\u001b[0m\u001b[0;34m\u001b[0m\u001b[0;34m\u001b[0m\u001b[0m\n",
      "\u001b[0;31mAttributeError\u001b[0m: 'numpy.float64' object has no attribute 'split'"
     ]
    }
   ],
   "source": [
    "complete_dataset['pressure_levels'] = aggregatePressureLevels(complete_dataset)\n"
   ]
  },
  {
   "cell_type": "code",
   "execution_count": 8,
   "metadata": {},
   "outputs": [],
   "source": [
    "from sklearn.pipeline import make_pipeline\n",
    "from sklearn.preprocessing import StandardScaler"
   ]
  },
  {
   "cell_type": "code",
   "execution_count": 9,
   "metadata": {},
   "outputs": [],
   "source": [
    "y = complete_dataset['xco2'].to_numpy()\n",
    "complete_dataset = complete_dataset.drop(columns=[\"Unnamed: 0\",'xco2','dates','sounding_id',\"pressure_weight\",\"co2_profile_apriori\"])\n",
    "X = complete_dataset.to_numpy()"
   ]
  },
  {
   "cell_type": "code",
   "execution_count": 10,
   "metadata": {},
   "outputs": [],
   "source": [
    "oco_test = pd.concat([oco_jan_train,pd.read_csv(f'{oco_path}oco2_LtCO2_160104_B10206Ar_200730102937s.csv')])\n",
    "gosat_test = pd.concat([gosat_jan_train,pd.read_csv(f'{gosat_path}acos_LtCO2_160104_v201201_B7310A_161107211923s.csv')])\n",
    "\n",
    "# oco_test['pressure_levels'] =  aggregatePressureLevels(oco_test['pressure_levels'])\n",
    "gosat_test['pressure_levels'] =  aggregatePressureLevels(gosat_test)"
   ]
  },
  {
   "cell_type": "code",
   "execution_count": 11,
   "metadata": {},
   "outputs": [],
   "source": [
    "y_test = gosat_test['xco2'].to_numpy()\n",
    "X_test = gosat_test.drop(columns=[\"Unnamed: 0\",'xco2','dates','sounding_id',\"pressure_weight\",\"co2_profile_apriori\"])\n",
    "X_test\n",
    "X_test = X_test.to_numpy()"
   ]
  },
  {
   "attachments": {},
   "cell_type": "markdown",
   "metadata": {},
   "source": [
    "# K-nearest neighbours Regressor"
   ]
  },
  {
   "cell_type": "code",
   "execution_count": 14,
   "metadata": {},
   "outputs": [],
   "source": [
    "\n",
    "from sklearn.neighbors import KNeighborsRegressor\n",
    "knn = KNeighborsRegressor(n_neighbors=5,weights='distance',n_jobs=-1)\n",
    "knn.fit(X,y)\n",
    "score = knn.score(X_test,y_test)"
   ]
  },
  {
   "cell_type": "code",
   "execution_count": 15,
   "metadata": {},
   "outputs": [
    {
     "data": {
      "text/plain": [
       "0.6517097021602685"
      ]
     },
     "execution_count": 15,
     "metadata": {},
     "output_type": "execute_result"
    }
   ],
   "source": [
    "score"
   ]
  },
  {
   "attachments": {},
   "cell_type": "markdown",
   "metadata": {},
   "source": [
    "# Support Vector Regressor"
   ]
  },
  {
   "cell_type": "code",
   "execution_count": 16,
   "metadata": {},
   "outputs": [],
   "source": [
    "from sklearn.svm import SVR\n",
    "\n",
    "svr = SVR(kernel='poly',degree=4)\n",
    "regr = make_pipeline(StandardScaler(), svr)\n",
    "regr.fit(X,y)\n",
    "score = regr.score(X_test,y_test)\n",
    "score"
   ]
  },
  {
   "attachments": {},
   "cell_type": "markdown",
   "metadata": {},
   "source": [
    "# Random Forest Regressor"
   ]
  },
  {
   "cell_type": "code",
   "execution_count": null,
   "metadata": {},
   "outputs": [
    {
     "ename": "NameError",
     "evalue": "name 'X_test' is not defined",
     "output_type": "error",
     "traceback": [
      "\u001b[0;31m---------------------------------------------------------------------------\u001b[0m",
      "\u001b[0;31mNameError\u001b[0m                                 Traceback (most recent call last)",
      "\u001b[0;32m/tmp/ipykernel_304135/2491956238.py\u001b[0m in \u001b[0;36m<module>\u001b[0;34m\u001b[0m\n\u001b[1;32m      2\u001b[0m \u001b[0;34m\u001b[0m\u001b[0m\n\u001b[1;32m      3\u001b[0m \u001b[0mrf\u001b[0m \u001b[0;34m=\u001b[0m \u001b[0mrfr\u001b[0m\u001b[0;34m(\u001b[0m\u001b[0mcriterion\u001b[0m\u001b[0;34m=\u001b[0m\u001b[0;34m'friedman_mse'\u001b[0m\u001b[0;34m,\u001b[0m\u001b[0mn_jobs\u001b[0m\u001b[0;34m=\u001b[0m\u001b[0;34m-\u001b[0m\u001b[0;36m1\u001b[0m\u001b[0;34m,\u001b[0m\u001b[0mrandom_state\u001b[0m\u001b[0;34m=\u001b[0m\u001b[0;36m42\u001b[0m\u001b[0;34m)\u001b[0m\u001b[0;34m\u001b[0m\u001b[0;34m\u001b[0m\u001b[0m\n\u001b[0;32m----> 4\u001b[0;31m \u001b[0mrf\u001b[0m\u001b[0;34m.\u001b[0m\u001b[0mscore\u001b[0m\u001b[0;34m(\u001b[0m\u001b[0mX_test\u001b[0m\u001b[0;34m,\u001b[0m\u001b[0my_test\u001b[0m\u001b[0;34m)\u001b[0m\u001b[0;34m\u001b[0m\u001b[0;34m\u001b[0m\u001b[0m\n\u001b[0m",
      "\u001b[0;31mNameError\u001b[0m: name 'X_test' is not defined"
     ]
    }
   ],
   "source": [
    "from sklearn.ensemble import RandomForestRegressor as rfr\n",
    "\n",
    "rf = rfr(criterion='friedman_mse',n_jobs=-1,random_state=42)\n",
    "rf.score(X_test,y_test)"
   ]
  },
  {
   "attachments": {},
   "cell_type": "markdown",
   "metadata": {},
   "source": [
    "# Adaboost Regressor"
   ]
  },
  {
   "cell_type": "code",
   "execution_count": null,
   "metadata": {},
   "outputs": [],
   "source": [
    "from sklearn.ensemble import AdaBoostRegressor,StackingRegressor\n",
    "\n",
    "ada = AdaBoostRegressor(n_estimators=100,learning_rate=0.1,random_state=42)\n"
   ]
  },
  {
   "attachments": {},
   "cell_type": "markdown",
   "metadata": {},
   "source": [
    "# Ensemble of all models"
   ]
  },
  {
   "cell_type": "code",
   "execution_count": null,
   "metadata": {},
   "outputs": [
    {
     "ename": "NameError",
     "evalue": "name 'KNeighborsRegressor' is not defined",
     "output_type": "error",
     "traceback": [
      "\u001b[0;31m---------------------------------------------------------------------------\u001b[0m",
      "\u001b[0;31mNameError\u001b[0m                                 Traceback (most recent call last)",
      "\u001b[0;32m/tmp/ipykernel_303823/1440995167.py\u001b[0m in \u001b[0;36m<module>\u001b[0;34m\u001b[0m\n\u001b[1;32m      1\u001b[0m estimators = [\n\u001b[0;32m----> 2\u001b[0;31m     \u001b[0;34m(\u001b[0m\u001b[0;34m'Knn'\u001b[0m\u001b[0;34m,\u001b[0m\u001b[0mKNeighborsRegressor\u001b[0m\u001b[0;34m(\u001b[0m\u001b[0mn_neighbors\u001b[0m\u001b[0;34m=\u001b[0m\u001b[0;36m5\u001b[0m\u001b[0;34m,\u001b[0m\u001b[0mweights\u001b[0m\u001b[0;34m=\u001b[0m\u001b[0;34m'distance'\u001b[0m\u001b[0;34m,\u001b[0m\u001b[0mn_jobs\u001b[0m\u001b[0;34m=\u001b[0m\u001b[0;34m-\u001b[0m\u001b[0;36m1\u001b[0m\u001b[0;34m)\u001b[0m\u001b[0;34m)\u001b[0m\u001b[0;34m,\u001b[0m\u001b[0;34m\u001b[0m\u001b[0;34m\u001b[0m\u001b[0m\n\u001b[0m\u001b[1;32m      3\u001b[0m     \u001b[0;34m(\u001b[0m\u001b[0;34m'svr'\u001b[0m\u001b[0;34m,\u001b[0m\u001b[0mSVR\u001b[0m\u001b[0;34m(\u001b[0m\u001b[0mkernel\u001b[0m\u001b[0;34m=\u001b[0m\u001b[0;34m'poly'\u001b[0m\u001b[0;34m,\u001b[0m\u001b[0mdegree\u001b[0m\u001b[0;34m=\u001b[0m\u001b[0;36m4\u001b[0m\u001b[0;34m)\u001b[0m\u001b[0;34m)\u001b[0m\u001b[0;34m,\u001b[0m\u001b[0;34m\u001b[0m\u001b[0;34m\u001b[0m\u001b[0m\n\u001b[1;32m      4\u001b[0m     \u001b[0;34m(\u001b[0m\u001b[0;34m'rf'\u001b[0m\u001b[0;34m,\u001b[0m\u001b[0mrfr\u001b[0m\u001b[0;34m(\u001b[0m\u001b[0mcriterion\u001b[0m\u001b[0;34m=\u001b[0m\u001b[0;34m'friedman_mse'\u001b[0m\u001b[0;34m,\u001b[0m\u001b[0mn_jobs\u001b[0m\u001b[0;34m=\u001b[0m\u001b[0;34m-\u001b[0m\u001b[0;36m1\u001b[0m\u001b[0;34m,\u001b[0m\u001b[0mrandom_state\u001b[0m\u001b[0;34m=\u001b[0m\u001b[0;36m42\u001b[0m\u001b[0;34m)\u001b[0m\u001b[0;34m)\u001b[0m\u001b[0;34m,\u001b[0m\u001b[0;34m\u001b[0m\u001b[0;34m\u001b[0m\u001b[0m\n\u001b[1;32m      5\u001b[0m     \u001b[0;34m(\u001b[0m\u001b[0;34m'ada'\u001b[0m\u001b[0;34m,\u001b[0m\u001b[0mAdaBoostRegressor\u001b[0m\u001b[0;34m(\u001b[0m\u001b[0mn_estimators\u001b[0m\u001b[0;34m=\u001b[0m\u001b[0;36m100\u001b[0m\u001b[0;34m,\u001b[0m\u001b[0mlearning_rate\u001b[0m\u001b[0;34m=\u001b[0m\u001b[0;36m0.1\u001b[0m\u001b[0;34m,\u001b[0m\u001b[0mrandom_state\u001b[0m\u001b[0;34m=\u001b[0m\u001b[0;36m42\u001b[0m\u001b[0;34m)\u001b[0m\u001b[0;34m)\u001b[0m\u001b[0;34m\u001b[0m\u001b[0;34m\u001b[0m\u001b[0m\n",
      "\u001b[0;31mNameError\u001b[0m: name 'KNeighborsRegressor' is not defined"
     ]
    }
   ],
   "source": [
    "estimators = [\n",
    "    ('Knn',KNeighborsRegressor(n_neighbors=5,weights='distance',n_jobs=-1)),\n",
    "    ('svr',SVR(kernel='poly',degree=4)),\n",
    "    ('rf',rfr(criterion='friedman_mse',n_jobs=-1,random_state=42)),\n",
    "    ('ada',AdaBoostRegressor(n_estimators=100,learning_rate=0.1,random_state=42))\n",
    "]\n",
    "model = StackingRegressor(estimators,cv=10,n_jobs=-1)\n",
    "model.fit(X,y)"
   ]
  },
  {
   "cell_type": "code",
   "execution_count": 19,
   "metadata": {},
   "outputs": [
    {
     "data": {
      "text/plain": [
       "(563073, 10)"
      ]
     },
     "execution_count": 19,
     "metadata": {},
     "output_type": "execute_result"
    }
   ],
   "source": [
    "model.score(X_test,y_test)"
   ]
  }
 ],
 "metadata": {
  "kernelspec": {
   "display_name": "base",
   "language": "python",
   "name": "python3"
  },
  "language_info": {
   "codemirror_mode": {
    "name": "ipython",
    "version": 3
   },
   "file_extension": ".py",
   "mimetype": "text/x-python",
   "name": "python",
   "nbconvert_exporter": "python",
   "pygments_lexer": "ipython3",
   "version": "3.9.13"
  },
  "orig_nbformat": 4,
  "vscode": {
   "interpreter": {
    "hash": "0a77c10386953d7aa1ee55a26f0f5ac1b4e5dd001f8ebf81b7231e3a892c2cef"
   }
  }
 },
 "nbformat": 4,
 "nbformat_minor": 2
}
