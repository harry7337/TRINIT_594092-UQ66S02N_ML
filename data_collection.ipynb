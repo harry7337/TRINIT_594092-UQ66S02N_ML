{
 "cells": [
  {
   "cell_type": "code",
   "execution_count": 2,
   "metadata": {},
   "outputs": [],
   "source": [
    "import pydap\n",
    "import netCDF4 as nc\n",
    "import pandas as pd\n",
    "import h5py\n",
    "import xarray as xr\n",
    "import geopy.distance\n",
    "import numpy as np"
   ]
  },
  {
   "cell_type": "code",
   "execution_count": 10,
   "metadata": {},
   "outputs": [
    {
     "ename": "FileNotFoundError",
     "evalue": "[Errno 2] No such file or directory: 'df_oco2.csv'",
     "output_type": "error",
     "traceback": [
      "\u001b[0;31m---------------------------------------------------------------------------\u001b[0m",
      "\u001b[0;31mFileNotFoundError\u001b[0m                         Traceback (most recent call last)",
      "Cell \u001b[0;32mIn[10], line 5\u001b[0m\n\u001b[1;32m      2\u001b[0m \u001b[39mimport\u001b[39;00m \u001b[39mpandas\u001b[39;00m \u001b[39mas\u001b[39;00m \u001b[39mpd\u001b[39;00m\n\u001b[1;32m      4\u001b[0m \u001b[39m# Load the XCO2 data from OCO-2 and GOSAT\u001b[39;00m\n\u001b[0;32m----> 5\u001b[0m df_oco2 \u001b[39m=\u001b[39m pd\u001b[39m.\u001b[39;49mread_csv(\u001b[39m\"\u001b[39;49m\u001b[39mdf_oco2.csv\u001b[39;49m\u001b[39m\"\u001b[39;49m)\n\u001b[1;32m      6\u001b[0m df_gosat \u001b[39m=\u001b[39m pd\u001b[39m.\u001b[39mread_csv(\u001b[39m\"\u001b[39m\u001b[39mdf_gosat.csv\u001b[39m\u001b[39m\"\u001b[39m)\n\u001b[1;32m      8\u001b[0m \u001b[39m# Align the data in terms of time and location\u001b[39;00m\n",
      "File \u001b[0;32m~/anaconda3/envs/tri_nit/lib/python3.11/site-packages/pandas/util/_decorators.py:211\u001b[0m, in \u001b[0;36mdeprecate_kwarg.<locals>._deprecate_kwarg.<locals>.wrapper\u001b[0;34m(*args, **kwargs)\u001b[0m\n\u001b[1;32m    209\u001b[0m     \u001b[39melse\u001b[39;00m:\n\u001b[1;32m    210\u001b[0m         kwargs[new_arg_name] \u001b[39m=\u001b[39m new_arg_value\n\u001b[0;32m--> 211\u001b[0m \u001b[39mreturn\u001b[39;00m func(\u001b[39m*\u001b[39;49margs, \u001b[39m*\u001b[39;49m\u001b[39m*\u001b[39;49mkwargs)\n",
      "File \u001b[0;32m~/anaconda3/envs/tri_nit/lib/python3.11/site-packages/pandas/util/_decorators.py:331\u001b[0m, in \u001b[0;36mdeprecate_nonkeyword_arguments.<locals>.decorate.<locals>.wrapper\u001b[0;34m(*args, **kwargs)\u001b[0m\n\u001b[1;32m    325\u001b[0m \u001b[39mif\u001b[39;00m \u001b[39mlen\u001b[39m(args) \u001b[39m>\u001b[39m num_allow_args:\n\u001b[1;32m    326\u001b[0m     warnings\u001b[39m.\u001b[39mwarn(\n\u001b[1;32m    327\u001b[0m         msg\u001b[39m.\u001b[39mformat(arguments\u001b[39m=\u001b[39m_format_argument_list(allow_args)),\n\u001b[1;32m    328\u001b[0m         \u001b[39mFutureWarning\u001b[39;00m,\n\u001b[1;32m    329\u001b[0m         stacklevel\u001b[39m=\u001b[39mfind_stack_level(),\n\u001b[1;32m    330\u001b[0m     )\n\u001b[0;32m--> 331\u001b[0m \u001b[39mreturn\u001b[39;00m func(\u001b[39m*\u001b[39;49margs, \u001b[39m*\u001b[39;49m\u001b[39m*\u001b[39;49mkwargs)\n",
      "File \u001b[0;32m~/anaconda3/envs/tri_nit/lib/python3.11/site-packages/pandas/io/parsers/readers.py:950\u001b[0m, in \u001b[0;36mread_csv\u001b[0;34m(filepath_or_buffer, sep, delimiter, header, names, index_col, usecols, squeeze, prefix, mangle_dupe_cols, dtype, engine, converters, true_values, false_values, skipinitialspace, skiprows, skipfooter, nrows, na_values, keep_default_na, na_filter, verbose, skip_blank_lines, parse_dates, infer_datetime_format, keep_date_col, date_parser, dayfirst, cache_dates, iterator, chunksize, compression, thousands, decimal, lineterminator, quotechar, quoting, doublequote, escapechar, comment, encoding, encoding_errors, dialect, error_bad_lines, warn_bad_lines, on_bad_lines, delim_whitespace, low_memory, memory_map, float_precision, storage_options)\u001b[0m\n\u001b[1;32m    935\u001b[0m kwds_defaults \u001b[39m=\u001b[39m _refine_defaults_read(\n\u001b[1;32m    936\u001b[0m     dialect,\n\u001b[1;32m    937\u001b[0m     delimiter,\n\u001b[0;32m   (...)\u001b[0m\n\u001b[1;32m    946\u001b[0m     defaults\u001b[39m=\u001b[39m{\u001b[39m\"\u001b[39m\u001b[39mdelimiter\u001b[39m\u001b[39m\"\u001b[39m: \u001b[39m\"\u001b[39m\u001b[39m,\u001b[39m\u001b[39m\"\u001b[39m},\n\u001b[1;32m    947\u001b[0m )\n\u001b[1;32m    948\u001b[0m kwds\u001b[39m.\u001b[39mupdate(kwds_defaults)\n\u001b[0;32m--> 950\u001b[0m \u001b[39mreturn\u001b[39;00m _read(filepath_or_buffer, kwds)\n",
      "File \u001b[0;32m~/anaconda3/envs/tri_nit/lib/python3.11/site-packages/pandas/io/parsers/readers.py:605\u001b[0m, in \u001b[0;36m_read\u001b[0;34m(filepath_or_buffer, kwds)\u001b[0m\n\u001b[1;32m    602\u001b[0m _validate_names(kwds\u001b[39m.\u001b[39mget(\u001b[39m\"\u001b[39m\u001b[39mnames\u001b[39m\u001b[39m\"\u001b[39m, \u001b[39mNone\u001b[39;00m))\n\u001b[1;32m    604\u001b[0m \u001b[39m# Create the parser.\u001b[39;00m\n\u001b[0;32m--> 605\u001b[0m parser \u001b[39m=\u001b[39m TextFileReader(filepath_or_buffer, \u001b[39m*\u001b[39;49m\u001b[39m*\u001b[39;49mkwds)\n\u001b[1;32m    607\u001b[0m \u001b[39mif\u001b[39;00m chunksize \u001b[39mor\u001b[39;00m iterator:\n\u001b[1;32m    608\u001b[0m     \u001b[39mreturn\u001b[39;00m parser\n",
      "File \u001b[0;32m~/anaconda3/envs/tri_nit/lib/python3.11/site-packages/pandas/io/parsers/readers.py:1442\u001b[0m, in \u001b[0;36mTextFileReader.__init__\u001b[0;34m(self, f, engine, **kwds)\u001b[0m\n\u001b[1;32m   1439\u001b[0m     \u001b[39mself\u001b[39m\u001b[39m.\u001b[39moptions[\u001b[39m\"\u001b[39m\u001b[39mhas_index_names\u001b[39m\u001b[39m\"\u001b[39m] \u001b[39m=\u001b[39m kwds[\u001b[39m\"\u001b[39m\u001b[39mhas_index_names\u001b[39m\u001b[39m\"\u001b[39m]\n\u001b[1;32m   1441\u001b[0m \u001b[39mself\u001b[39m\u001b[39m.\u001b[39mhandles: IOHandles \u001b[39m|\u001b[39m \u001b[39mNone\u001b[39;00m \u001b[39m=\u001b[39m \u001b[39mNone\u001b[39;00m\n\u001b[0;32m-> 1442\u001b[0m \u001b[39mself\u001b[39m\u001b[39m.\u001b[39m_engine \u001b[39m=\u001b[39m \u001b[39mself\u001b[39;49m\u001b[39m.\u001b[39;49m_make_engine(f, \u001b[39mself\u001b[39;49m\u001b[39m.\u001b[39;49mengine)\n",
      "File \u001b[0;32m~/anaconda3/envs/tri_nit/lib/python3.11/site-packages/pandas/io/parsers/readers.py:1735\u001b[0m, in \u001b[0;36mTextFileReader._make_engine\u001b[0;34m(self, f, engine)\u001b[0m\n\u001b[1;32m   1733\u001b[0m     \u001b[39mif\u001b[39;00m \u001b[39m\"\u001b[39m\u001b[39mb\u001b[39m\u001b[39m\"\u001b[39m \u001b[39mnot\u001b[39;00m \u001b[39min\u001b[39;00m mode:\n\u001b[1;32m   1734\u001b[0m         mode \u001b[39m+\u001b[39m\u001b[39m=\u001b[39m \u001b[39m\"\u001b[39m\u001b[39mb\u001b[39m\u001b[39m\"\u001b[39m\n\u001b[0;32m-> 1735\u001b[0m \u001b[39mself\u001b[39m\u001b[39m.\u001b[39mhandles \u001b[39m=\u001b[39m get_handle(\n\u001b[1;32m   1736\u001b[0m     f,\n\u001b[1;32m   1737\u001b[0m     mode,\n\u001b[1;32m   1738\u001b[0m     encoding\u001b[39m=\u001b[39;49m\u001b[39mself\u001b[39;49m\u001b[39m.\u001b[39;49moptions\u001b[39m.\u001b[39;49mget(\u001b[39m\"\u001b[39;49m\u001b[39mencoding\u001b[39;49m\u001b[39m\"\u001b[39;49m, \u001b[39mNone\u001b[39;49;00m),\n\u001b[1;32m   1739\u001b[0m     compression\u001b[39m=\u001b[39;49m\u001b[39mself\u001b[39;49m\u001b[39m.\u001b[39;49moptions\u001b[39m.\u001b[39;49mget(\u001b[39m\"\u001b[39;49m\u001b[39mcompression\u001b[39;49m\u001b[39m\"\u001b[39;49m, \u001b[39mNone\u001b[39;49;00m),\n\u001b[1;32m   1740\u001b[0m     memory_map\u001b[39m=\u001b[39;49m\u001b[39mself\u001b[39;49m\u001b[39m.\u001b[39;49moptions\u001b[39m.\u001b[39;49mget(\u001b[39m\"\u001b[39;49m\u001b[39mmemory_map\u001b[39;49m\u001b[39m\"\u001b[39;49m, \u001b[39mFalse\u001b[39;49;00m),\n\u001b[1;32m   1741\u001b[0m     is_text\u001b[39m=\u001b[39;49mis_text,\n\u001b[1;32m   1742\u001b[0m     errors\u001b[39m=\u001b[39;49m\u001b[39mself\u001b[39;49m\u001b[39m.\u001b[39;49moptions\u001b[39m.\u001b[39;49mget(\u001b[39m\"\u001b[39;49m\u001b[39mencoding_errors\u001b[39;49m\u001b[39m\"\u001b[39;49m, \u001b[39m\"\u001b[39;49m\u001b[39mstrict\u001b[39;49m\u001b[39m\"\u001b[39;49m),\n\u001b[1;32m   1743\u001b[0m     storage_options\u001b[39m=\u001b[39;49m\u001b[39mself\u001b[39;49m\u001b[39m.\u001b[39;49moptions\u001b[39m.\u001b[39;49mget(\u001b[39m\"\u001b[39;49m\u001b[39mstorage_options\u001b[39;49m\u001b[39m\"\u001b[39;49m, \u001b[39mNone\u001b[39;49;00m),\n\u001b[1;32m   1744\u001b[0m )\n\u001b[1;32m   1745\u001b[0m \u001b[39massert\u001b[39;00m \u001b[39mself\u001b[39m\u001b[39m.\u001b[39mhandles \u001b[39mis\u001b[39;00m \u001b[39mnot\u001b[39;00m \u001b[39mNone\u001b[39;00m\n\u001b[1;32m   1746\u001b[0m f \u001b[39m=\u001b[39m \u001b[39mself\u001b[39m\u001b[39m.\u001b[39mhandles\u001b[39m.\u001b[39mhandle\n",
      "File \u001b[0;32m~/anaconda3/envs/tri_nit/lib/python3.11/site-packages/pandas/io/common.py:856\u001b[0m, in \u001b[0;36mget_handle\u001b[0;34m(path_or_buf, mode, encoding, compression, memory_map, is_text, errors, storage_options)\u001b[0m\n\u001b[1;32m    851\u001b[0m \u001b[39melif\u001b[39;00m \u001b[39misinstance\u001b[39m(handle, \u001b[39mstr\u001b[39m):\n\u001b[1;32m    852\u001b[0m     \u001b[39m# Check whether the filename is to be opened in binary mode.\u001b[39;00m\n\u001b[1;32m    853\u001b[0m     \u001b[39m# Binary mode does not support 'encoding' and 'newline'.\u001b[39;00m\n\u001b[1;32m    854\u001b[0m     \u001b[39mif\u001b[39;00m ioargs\u001b[39m.\u001b[39mencoding \u001b[39mand\u001b[39;00m \u001b[39m\"\u001b[39m\u001b[39mb\u001b[39m\u001b[39m\"\u001b[39m \u001b[39mnot\u001b[39;00m \u001b[39min\u001b[39;00m ioargs\u001b[39m.\u001b[39mmode:\n\u001b[1;32m    855\u001b[0m         \u001b[39m# Encoding\u001b[39;00m\n\u001b[0;32m--> 856\u001b[0m         handle \u001b[39m=\u001b[39m \u001b[39mopen\u001b[39;49m(\n\u001b[1;32m    857\u001b[0m             handle,\n\u001b[1;32m    858\u001b[0m             ioargs\u001b[39m.\u001b[39;49mmode,\n\u001b[1;32m    859\u001b[0m             encoding\u001b[39m=\u001b[39;49mioargs\u001b[39m.\u001b[39;49mencoding,\n\u001b[1;32m    860\u001b[0m             errors\u001b[39m=\u001b[39;49merrors,\n\u001b[1;32m    861\u001b[0m             newline\u001b[39m=\u001b[39;49m\u001b[39m\"\u001b[39;49m\u001b[39m\"\u001b[39;49m,\n\u001b[1;32m    862\u001b[0m         )\n\u001b[1;32m    863\u001b[0m     \u001b[39melse\u001b[39;00m:\n\u001b[1;32m    864\u001b[0m         \u001b[39m# Binary mode\u001b[39;00m\n\u001b[1;32m    865\u001b[0m         handle \u001b[39m=\u001b[39m \u001b[39mopen\u001b[39m(handle, ioargs\u001b[39m.\u001b[39mmode)\n",
      "\u001b[0;31mFileNotFoundError\u001b[0m: [Errno 2] No such file or directory: 'df_oco2.csv'"
     ]
    }
   ],
   "source": [
    "# import numpy as np\n",
    "# import pandas as pd\n",
    "\n",
    "# # Load the XCO2 data from OCO-2 and GOSAT\n",
    "# df_oco2 = pd.read_csv(\"df_oco2.csv\")\n",
    "# df_gosat = pd.read_csv(\"df_gosat.csv\")\n",
    "\n",
    "# # Align the data in terms of time and location\n",
    "# df_oco2.sort_values(by=[\"time\", \"latitude\", \"longitude\"], inplace=True)\n",
    "# df_gosat.sort_values(by=[\"time\", \"latitude\", \"longitude\"], inplace=True)\n",
    "\n",
    "# # Merge the data by taking the average of the XCO2 values for a given location and time\n",
    "# combined_data = pd.DataFrame(columns=[\"time\", \"latitude\", \"longitude\", \"xco2\"])\n",
    "# oco2_index = 0\n",
    "# gosat_index = 0\n",
    "# while oco2_index < len(df_oco2) and gosat_index < len(df_gosat):\n",
    "#     oco2_time = df_oco2.iloc[oco2_index][\"time\"]\n",
    "#     gosat_time = df_gosat.iloc[gosat_index][\"time\"]\n",
    "#     if oco2_time < gosat_time:\n",
    "#         oco2_index += 1\n",
    "#     elif oco2_time > gosat_time:\n",
    "#         gosat_index += 1\n",
    "#     else:\n",
    "#         oco2_latitude = df_oco2.iloc[oco2_index][\"latitude\"]\n",
    "#         gosat_latitude = df_gosat.iloc[gosat_index][\"latitude\"]\n",
    "#         oco2_longitude = df_oco2.iloc[oco2_index][\"longitude\"]\n",
    "#         gosat_longitude = df_gosat.iloc[gosat_index][\"longitude\"]\n",
    "#         if abs(oco2_latitude - gosat_latitude) < 1e-6 and abs(oco2_longitude - gosat_longitude) < 1e-6:\n",
    "#             combined_xco2 = (df_oco2.iloc[oco2_index][\"xco2\"] + df_gosat.iloc[gosat_index][\"xco2\"]) / 2\n",
    "#             combined_data = combined_data.append({\"time\": oco2_time, \"latitude\": oco2_latitude, \"longitude\": oco2_longitude, \"xco2\": combined_xco2}, ignore_index=True)\n",
    "#             oco2_index += 1\n",
    "#             gosat_index += 1\n",
    "\n",
    "# # Save the combined data to a CSV file\n",
    "# combined_data.to_csv(\"combined_data.csv\", index=False)\n",
    "\n"
   ]
  },
  {
   "cell_type": "code",
   "execution_count": 3,
   "metadata": {},
   "outputs": [],
   "source": [
    "f_gosat = nc.Dataset(\"gosat/2016/acos_LtCO2_160102_v201201_B7310A_161107211938s.nc4\")\n",
    "f_oco2 = nc.Dataset(\"oco2_2016_jan1.nc4\")"
   ]
  },
  {
   "cell_type": "code",
   "execution_count": 4,
   "metadata": {},
   "outputs": [
    {
     "data": {
      "text/plain": [
       "<class 'netCDF4._netCDF4.Dataset'>\n",
       "root group (NETCDF4 data model, file format HDF5):\n",
       "    filter_function: acos_l2_filter_b7\n",
       "    bc_function: bias_correct_acos_b7\n",
       "    warn_level_function: acos_warn_levels_b7\n",
       "    Bias_Correction_landH: XCO2_Bias_Corrected = XCO2_Raw + 0.300*(dp + 0.0) + 8.60*(sqrt_alb_3 - 0.500) + 0.0160*(co2_grad_del - 25.0) + 14.5*(DWS - 0.0200) +0.15 ppm\n",
       "    Bias_Correction_landM: XCO2_Bias_Corrected = XCO2_Raw + 0.290*(dp + 1.20) + 4.10*(alb_3 - 0.400) + 0.0150*(co2_grad_del - 20.0) + 7.50*(aod_du - 0.0100) -0.20 ppm\n",
       "    Bias_Correction_Ocean: XCO2_Bias_Corrected = XCO2_Raw - 42.4*(s32 - 0.610) - 0.0930*(co2_grad_del + 3.00) + 1.80*(aodheight_ic - 0.180) + 0.325*(logDust + 0.0) +0.90 ppm\n",
       "    Bias_Uncertainty: Bias correction parameter uncertainties are given in the data users guide.\n",
       "    Note_regarding_bias_correction: There is some uncertainty in not only the bias correction coefficients but in the chosen parameters themselves. This release bias correction may be slightly different that of previous releases, and also somewhat different from those of previous ACOS algorithm versions.  This has to do with details of the particular retrieval algorithm version and is considered normal (though not ideal).\n",
       "    Platform: GOSAT\n",
       "    Sensor: TANSO-FTS\n",
       "    title: ACOS L2 Lite Output\n",
       "    BuildId: B7.3.10A\n",
       "    filtering state: Filtered with acos_b7_prefilter\n",
       "    creation_date: Nov 2016\n",
       "    contact: Chris O'Dell: odell@atmos.colostate.edu\n",
       "    dimensions(sizes): sounding_id(735), levels(20), bands(3), epoch_dimension(6), source_files(15)\n",
       "    variables(dimensions): uint64 sounding_id(sounding_id), int16 levels(levels), int16 bands(bands), int16 date(sounding_id, epoch_dimension), float32 latitude(sounding_id), float32 longitude(sounding_id), float64 time(sounding_id), float32 solar_zenith_angle(sounding_id), float32 sensor_zenith_angle(sounding_id), int8 xco2_quality_flag(sounding_id), <class 'str'> source_files(source_files), uint8 file_index(sounding_id), int8 warn_level(sounding_id), float32 xco2(sounding_id), float32 xco2_uncertainty(sounding_id), float32 xco2_apriori(sounding_id), float32 pressure_levels(sounding_id, levels), float32 co2_profile_apriori(sounding_id, levels), float32 xco2_averaging_kernel(sounding_id, levels), float32 pressure_weight(sounding_id, levels)\n",
       "    groups: Preprocessors, Retrieval, Sounding"
      ]
     },
     "execution_count": 4,
     "metadata": {},
     "output_type": "execute_result"
    }
   ],
   "source": [
    "f_gosat"
   ]
  },
  {
   "cell_type": "code",
   "execution_count": 5,
   "metadata": {},
   "outputs": [
    {
     "data": {
      "text/plain": [
       "dict_keys(['sounding_id', 'levels', 'bands', 'date', 'latitude', 'longitude', 'time', 'solar_zenith_angle', 'sensor_zenith_angle', 'xco2_quality_flag', 'source_files', 'file_index', 'warn_level', 'xco2', 'xco2_uncertainty', 'xco2_apriori', 'pressure_levels', 'co2_profile_apriori', 'xco2_averaging_kernel', 'pressure_weight'])"
      ]
     },
     "execution_count": 5,
     "metadata": {},
     "output_type": "execute_result"
    }
   ],
   "source": [
    "f_gosat.variables.keys()"
   ]
  },
  {
   "cell_type": "code",
   "execution_count": 6,
   "metadata": {},
   "outputs": [
    {
     "data": {
      "text/plain": [
       "<class 'netCDF4._netCDF4.Variable'>\n",
       "int16 date(sounding_id, epoch_dimension)\n",
       "    units: none\n",
       "    long_name: Observation date and time matching sounding_id\n",
       "    missing_value: -9999\n",
       "    comment: Year, month (1-12), day (1-31), hour (0-23), minute (0-59), second (0-59).\n",
       "unlimited dimensions: \n",
       "current shape = (735, 6)\n",
       "filling on, default _FillValue of -32767 used"
      ]
     },
     "execution_count": 6,
     "metadata": {},
     "output_type": "execute_result"
    }
   ],
   "source": [
    "f_gosat['date']"
   ]
  },
  {
   "cell_type": "code",
   "execution_count": 7,
   "metadata": {},
   "outputs": [],
   "source": [
    "# date format:Year, month (1-12), day (1-31), hour (0-23), minute (0-59), second (0-59).\n",
    "dates =[]\n",
    "for dt in f_gosat['date']:\n",
    "    s = \"\"\n",
    "    for num in dt:\n",
    "        s += str(num)+\"/\"\n",
    "    dates.append(s[:-1])"
   ]
  },
  {
   "cell_type": "code",
   "execution_count": 11,
   "metadata": {},
   "outputs": [],
   "source": [
    "df_oco2 = pd.DataFrame(columns=[\"latitude\",\"longitude\",\"time\",'sensor_zenith_angle', 'xco2', 'xco2_uncertainty', 'xco2_apriori' ])\n",
    "df_gosat = pd.DataFrame(columns=df_oco2.columns)"
   ]
  },
  {
   "cell_type": "code",
   "execution_count": 12,
   "metadata": {},
   "outputs": [
    {
     "name": "stdout",
     "output_type": "stream",
     "text": [
      "latitude\n",
      "longitude\n",
      "time\n",
      "sensor_zenith_angle\n",
      "xco2\n",
      "xco2_uncertainty\n",
      "xco2_apriori\n"
     ]
    }
   ],
   "source": [
    "for col in df_gosat.columns:\n",
    "    print(col)\n",
    "    df_gosat[col] = [x for x in f_gosat[col]]"
   ]
  },
  {
   "cell_type": "code",
   "execution_count": 13,
   "metadata": {},
   "outputs": [
    {
     "data": {
      "text/plain": [
       "735"
      ]
     },
     "execution_count": 13,
     "metadata": {},
     "output_type": "execute_result"
    }
   ],
   "source": [
    "len(dates)"
   ]
  },
  {
   "cell_type": "code",
   "execution_count": 14,
   "metadata": {},
   "outputs": [],
   "source": [
    "df_gosat[\"dates\"] = dates\n",
    "df_gosat[\"dates\"] = pd.to_datetime(df_gosat[\"dates\"],format='%Y/%m/%d/%H/%M/%S')"
   ]
  },
  {
   "cell_type": "code",
   "execution_count": 15,
   "metadata": {},
   "outputs": [
    {
     "data": {
      "text/plain": [
       "(735, 8)"
      ]
     },
     "execution_count": 15,
     "metadata": {},
     "output_type": "execute_result"
    }
   ],
   "source": [
    "df_gosat.shape"
   ]
  },
  {
   "cell_type": "code",
   "execution_count": 16,
   "metadata": {},
   "outputs": [
    {
     "data": {
      "text/html": [
       "<div>\n",
       "<style scoped>\n",
       "    .dataframe tbody tr th:only-of-type {\n",
       "        vertical-align: middle;\n",
       "    }\n",
       "\n",
       "    .dataframe tbody tr th {\n",
       "        vertical-align: top;\n",
       "    }\n",
       "\n",
       "    .dataframe thead th {\n",
       "        text-align: right;\n",
       "    }\n",
       "</style>\n",
       "<table border=\"1\" class=\"dataframe\">\n",
       "  <thead>\n",
       "    <tr style=\"text-align: right;\">\n",
       "      <th></th>\n",
       "      <th>latitude</th>\n",
       "      <th>longitude</th>\n",
       "      <th>time</th>\n",
       "      <th>sensor_zenith_angle</th>\n",
       "      <th>xco2</th>\n",
       "      <th>xco2_uncertainty</th>\n",
       "      <th>xco2_apriori</th>\n",
       "      <th>dates</th>\n",
       "    </tr>\n",
       "  </thead>\n",
       "  <tbody>\n",
       "    <tr>\n",
       "      <th>0</th>\n",
       "      <td>-24.553658</td>\n",
       "      <td>172.7425</td>\n",
       "      <td>1451695945.2100575</td>\n",
       "      <td>24.090277</td>\n",
       "      <td>398.15314</td>\n",
       "      <td>1.3915493</td>\n",
       "      <td>399.66754</td>\n",
       "      <td>2016-01-02 00:52:23</td>\n",
       "    </tr>\n",
       "    <tr>\n",
       "      <th>1</th>\n",
       "      <td>-24.547958</td>\n",
       "      <td>172.74211</td>\n",
       "      <td>1451695949.9356806</td>\n",
       "      <td>24.628723</td>\n",
       "      <td>399.34375</td>\n",
       "      <td>1.419487</td>\n",
       "      <td>399.66754</td>\n",
       "      <td>2016-01-02 00:52:28</td>\n",
       "    </tr>\n",
       "    <tr>\n",
       "      <th>2</th>\n",
       "      <td>-24.544949</td>\n",
       "      <td>172.7403</td>\n",
       "      <td>1451695954.4291587</td>\n",
       "      <td>25.432869</td>\n",
       "      <td>399.25946</td>\n",
       "      <td>1.4963825</td>\n",
       "      <td>399.66757</td>\n",
       "      <td>2016-01-02 00:52:32</td>\n",
       "    </tr>\n",
       "    <tr>\n",
       "      <th>3</th>\n",
       "      <td>-77.64792</td>\n",
       "      <td>117.06473</td>\n",
       "      <td>1451696871.832189</td>\n",
       "      <td>26.95575</td>\n",
       "      <td>404.99014</td>\n",
       "      <td>3.3346617</td>\n",
       "      <td>398.85254</td>\n",
       "      <td>2016-01-02 01:07:50</td>\n",
       "    </tr>\n",
       "    <tr>\n",
       "      <th>4</th>\n",
       "      <td>-83.17064</td>\n",
       "      <td>120.690865</td>\n",
       "      <td>1451696917.927493</td>\n",
       "      <td>25.893877</td>\n",
       "      <td>409.90796</td>\n",
       "      <td>4.2980876</td>\n",
       "      <td>398.57144</td>\n",
       "      <td>2016-01-02 01:08:36</td>\n",
       "    </tr>\n",
       "  </tbody>\n",
       "</table>\n",
       "</div>"
      ],
      "text/plain": [
       "     latitude   longitude                time sensor_zenith_angle       xco2  \\\n",
       "0  -24.553658    172.7425  1451695945.2100575           24.090277  398.15314   \n",
       "1  -24.547958   172.74211  1451695949.9356806           24.628723  399.34375   \n",
       "2  -24.544949    172.7403  1451695954.4291587           25.432869  399.25946   \n",
       "3   -77.64792   117.06473   1451696871.832189            26.95575  404.99014   \n",
       "4   -83.17064  120.690865   1451696917.927493           25.893877  409.90796   \n",
       "\n",
       "  xco2_uncertainty xco2_apriori               dates  \n",
       "0        1.3915493    399.66754 2016-01-02 00:52:23  \n",
       "1         1.419487    399.66754 2016-01-02 00:52:28  \n",
       "2        1.4963825    399.66757 2016-01-02 00:52:32  \n",
       "3        3.3346617    398.85254 2016-01-02 01:07:50  \n",
       "4        4.2980876    398.57144 2016-01-02 01:08:36  "
      ]
     },
     "execution_count": 16,
     "metadata": {},
     "output_type": "execute_result"
    }
   ],
   "source": [
    "df_gosat.head()"
   ]
  },
  {
   "cell_type": "code",
   "execution_count": 17,
   "metadata": {},
   "outputs": [
    {
     "data": {
      "text/plain": [
       "masked_array(data=-24.553658,\n",
       "             mask=False,\n",
       "       fill_value=1e+20,\n",
       "            dtype=float32)"
      ]
     },
     "execution_count": 17,
     "metadata": {},
     "output_type": "execute_result"
    }
   ],
   "source": [
    "df_gosat.iloc[0]['latitude']"
   ]
  },
  {
   "cell_type": "code",
   "execution_count": 18,
   "metadata": {},
   "outputs": [
    {
     "name": "stderr",
     "output_type": "stream",
     "text": [
      "/var/folders/wx/g95tcl_55cg_v5h5q3hkngmh0000gn/T/ipykernel_18165/10778488.py:1: FutureWarning: Treating datetime data as categorical rather than numeric in `.describe` is deprecated and will be removed in a future version of pandas. Specify `datetime_is_numeric=True` to silence this warning and adopt the future behavior now.\n",
      "  df_gosat.describe()\n"
     ]
    },
    {
     "data": {
      "text/html": [
       "<div>\n",
       "<style scoped>\n",
       "    .dataframe tbody tr th:only-of-type {\n",
       "        vertical-align: middle;\n",
       "    }\n",
       "\n",
       "    .dataframe tbody tr th {\n",
       "        vertical-align: top;\n",
       "    }\n",
       "\n",
       "    .dataframe thead th {\n",
       "        text-align: right;\n",
       "    }\n",
       "</style>\n",
       "<table border=\"1\" class=\"dataframe\">\n",
       "  <thead>\n",
       "    <tr style=\"text-align: right;\">\n",
       "      <th></th>\n",
       "      <th>latitude</th>\n",
       "      <th>longitude</th>\n",
       "      <th>time</th>\n",
       "      <th>sensor_zenith_angle</th>\n",
       "      <th>xco2</th>\n",
       "      <th>xco2_uncertainty</th>\n",
       "      <th>xco2_apriori</th>\n",
       "      <th>dates</th>\n",
       "    </tr>\n",
       "  </thead>\n",
       "  <tbody>\n",
       "    <tr>\n",
       "      <th>count</th>\n",
       "      <td>735</td>\n",
       "      <td>735</td>\n",
       "      <td>735</td>\n",
       "      <td>735</td>\n",
       "      <td>735</td>\n",
       "      <td>735</td>\n",
       "      <td>735</td>\n",
       "      <td>735</td>\n",
       "    </tr>\n",
       "    <tr>\n",
       "      <th>unique</th>\n",
       "      <td>733</td>\n",
       "      <td>735</td>\n",
       "      <td>735</td>\n",
       "      <td>735</td>\n",
       "      <td>735</td>\n",
       "      <td>735</td>\n",
       "      <td>698</td>\n",
       "      <td>735</td>\n",
       "    </tr>\n",
       "    <tr>\n",
       "      <th>top</th>\n",
       "      <td>-84.34673</td>\n",
       "      <td>172.7425</td>\n",
       "      <td>1451695945.2100575</td>\n",
       "      <td>24.090277</td>\n",
       "      <td>398.15314</td>\n",
       "      <td>1.3915493</td>\n",
       "      <td>399.3372</td>\n",
       "      <td>2016-01-02 00:52:23</td>\n",
       "    </tr>\n",
       "    <tr>\n",
       "      <th>freq</th>\n",
       "      <td>2</td>\n",
       "      <td>1</td>\n",
       "      <td>1</td>\n",
       "      <td>1</td>\n",
       "      <td>1</td>\n",
       "      <td>1</td>\n",
       "      <td>3</td>\n",
       "      <td>1</td>\n",
       "    </tr>\n",
       "    <tr>\n",
       "      <th>first</th>\n",
       "      <td>NaN</td>\n",
       "      <td>NaN</td>\n",
       "      <td>NaN</td>\n",
       "      <td>NaN</td>\n",
       "      <td>NaN</td>\n",
       "      <td>NaN</td>\n",
       "      <td>NaN</td>\n",
       "      <td>2016-01-02 00:52:23</td>\n",
       "    </tr>\n",
       "    <tr>\n",
       "      <th>last</th>\n",
       "      <td>NaN</td>\n",
       "      <td>NaN</td>\n",
       "      <td>NaN</td>\n",
       "      <td>NaN</td>\n",
       "      <td>NaN</td>\n",
       "      <td>NaN</td>\n",
       "      <td>NaN</td>\n",
       "      <td>2016-01-02 23:35:39</td>\n",
       "    </tr>\n",
       "  </tbody>\n",
       "</table>\n",
       "</div>"
      ],
      "text/plain": [
       "         latitude longitude                time sensor_zenith_angle  \\\n",
       "count         735       735                 735                 735   \n",
       "unique        733       735                 735                 735   \n",
       "top     -84.34673  172.7425  1451695945.2100575           24.090277   \n",
       "freq            2         1                   1                   1   \n",
       "first         NaN       NaN                 NaN                 NaN   \n",
       "last          NaN       NaN                 NaN                 NaN   \n",
       "\n",
       "             xco2 xco2_uncertainty xco2_apriori                dates  \n",
       "count         735              735          735                  735  \n",
       "unique        735              735          698                  735  \n",
       "top     398.15314        1.3915493     399.3372  2016-01-02 00:52:23  \n",
       "freq            1                1            3                    1  \n",
       "first         NaN              NaN          NaN  2016-01-02 00:52:23  \n",
       "last          NaN              NaN          NaN  2016-01-02 23:35:39  "
      ]
     },
     "execution_count": 18,
     "metadata": {},
     "output_type": "execute_result"
    }
   ],
   "source": [
    "df_gosat.describe()"
   ]
  },
  {
   "cell_type": "code",
   "execution_count": 21,
   "metadata": {},
   "outputs": [
    {
     "name": "stdout",
     "output_type": "stream",
     "text": [
      "latitude\n",
      "longitude\n",
      "time\n",
      "sensor_zenith_angle\n",
      "xco2\n",
      "xco2_uncertainty\n",
      "xco2_apriori\n"
     ]
    }
   ],
   "source": [
    "for col in df_oco2.columns:\n",
    "    print(col)\n",
    "    df_oco2[col] = [x for x in f_oco2[col]]"
   ]
  },
  {
   "cell_type": "code",
   "execution_count": null,
   "metadata": {},
   "outputs": [],
   "source": []
  },
  {
   "cell_type": "code",
   "execution_count": 20,
   "metadata": {},
   "outputs": [
    {
     "name": "stdout",
     "output_type": "stream",
     "text": [
      "0.7831883430480957\n",
      "2.7499237060546875\n"
     ]
    }
   ],
   "source": [
    "combined_data = pd.DataFrame(columns=[\"time\", \"latitude\", \"longitude\", \"xco2\"])\n",
    "oco2_index = 0\n",
    "gosat_index = 0\n",
    "diff1 =[]\n",
    "diff2 =[]\n",
    "while oco2_index < len(df_oco2):\n",
    "    oco2_latitude = df_oco2.iloc[oco2_index][\"latitude\"]\n",
    "    oco2_longitude = df_oco2.iloc[oco2_index][\"longitude\"]\n",
    "    while gosat_index < len(df_gosat):\n",
    "        gosat_latitude = df_gosat.iloc[gosat_index][\"latitude\"]\n",
    "        gosat_longitude = df_gosat.iloc[gosat_index][\"longitude\"]\n",
    "        diff1.append(abs(oco2_latitude - gosat_latitude))\n",
    "        diff2.append(abs(oco2_longitude - gosat_longitude))\n",
    "        if abs(oco2_latitude - gosat_latitude) < 1 and abs(oco2_longitude - gosat_longitude) < 1:\n",
    "            combined_xco2 = (df_oco2.iloc[oco2_index][\"xco2\"] + df_gosat.iloc[gosat_index][\"xco2\"]) / 2\n",
    "            combined_data = combined_data.append({\"time\": oco2_time, \"latitude\": oco2_latitude, \"longitude\": oco2_longitude, \"xco2\": combined_xco2},ignore_index=True)\n",
    "        gosat_index += 1\n",
    "    oco2_index += 1\n",
    "    \n",
    "\n",
    "# Save the combined data to a CSV file\n",
    "combined_data.to_csv(\"combined_data.csv\", index=False)\n",
    "print(min(diff1))\n",
    "print(min(diff2))\n"
   ]
  },
  {
   "cell_type": "code",
   "execution_count": 21,
   "metadata": {},
   "outputs": [
    {
     "data": {
      "text/html": [
       "<div>\n",
       "<style scoped>\n",
       "    .dataframe tbody tr th:only-of-type {\n",
       "        vertical-align: middle;\n",
       "    }\n",
       "\n",
       "    .dataframe tbody tr th {\n",
       "        vertical-align: top;\n",
       "    }\n",
       "\n",
       "    .dataframe thead th {\n",
       "        text-align: right;\n",
       "    }\n",
       "</style>\n",
       "<table border=\"1\" class=\"dataframe\">\n",
       "  <thead>\n",
       "    <tr style=\"text-align: right;\">\n",
       "      <th></th>\n",
       "      <th>time</th>\n",
       "      <th>latitude</th>\n",
       "      <th>longitude</th>\n",
       "      <th>xco2</th>\n",
       "    </tr>\n",
       "  </thead>\n",
       "  <tbody>\n",
       "  </tbody>\n",
       "</table>\n",
       "</div>"
      ],
      "text/plain": [
       "Empty DataFrame\n",
       "Columns: [time, latitude, longitude, xco2]\n",
       "Index: []"
      ]
     },
     "execution_count": 21,
     "metadata": {},
     "output_type": "execute_result"
    }
   ],
   "source": [
    "combined_data"
   ]
  },
  {
   "cell_type": "code",
   "execution_count": 20,
   "metadata": {},
   "outputs": [
    {
     "name": "stdout",
     "output_type": "stream",
     "text": [
      "279.35290160430094\n"
     ]
    }
   ],
   "source": [
    "coords_1 = (52.2296756, 21.0122287)\n",
    "coords_2 = (52.406374, 16.9251681)\n",
    "\n",
    "print (geopy.distance.geodesic(coords_1, coords_2).km)"
   ]
  },
  {
   "cell_type": "code",
   "execution_count": null,
   "metadata": {},
   "outputs": [],
   "source": []
  }
 ],
 "metadata": {
  "kernelspec": {
   "display_name": "ml02",
   "language": "python",
   "name": "python3"
  },
  "language_info": {
   "codemirror_mode": {
    "name": "ipython",
    "version": 3
   },
   "file_extension": ".py",
   "mimetype": "text/x-python",
   "name": "python",
   "nbconvert_exporter": "python",
   "pygments_lexer": "ipython3",
   "version": "3.11.0"
  },
  "orig_nbformat": 4,
  "vscode": {
   "interpreter": {
    "hash": "dc48d6c5b62183da2ecf6f2901d0ea11592ad273057e0a8942cd8fdcb9d7d527"
   }
  }
 },
 "nbformat": 4,
 "nbformat_minor": 2
}
