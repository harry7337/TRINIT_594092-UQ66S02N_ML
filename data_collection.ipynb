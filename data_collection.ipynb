{
 "cells": [
  {
   "cell_type": "markdown",
   "metadata": {},
   "source": [
    "### Importing the required libraries"
   ]
  },
  {
   "cell_type": "code",
   "execution_count": 4,
   "metadata": {},
   "outputs": [],
   "source": [
    "import pydap\n",
    "import netCDF4 as nc\n",
    "import pandas as pd\n",
    "import h5py\n",
    "import xarray as xr\n",
    "import geopy.distance"
   ]
  },
  {
   "cell_type": "code",
   "execution_count": 5,
   "metadata": {},
   "outputs": [
    {
     "ename": "FileNotFoundError",
     "evalue": "[Errno 2] No such file or directory: b'oco2_LtCO2_220101_B11014Ar_220728214731s.nc4'",
     "output_type": "error",
     "traceback": [
      "\u001b[1;31m---------------------------------------------------------------------------\u001b[0m",
      "\u001b[1;31mFileNotFoundError\u001b[0m                         Traceback (most recent call last)",
      "\u001b[1;32m~\\AppData\\Local\\Temp/ipykernel_2212/3463929077.py\u001b[0m in \u001b[0;36m<module>\u001b[1;34m\u001b[0m\n\u001b[0;32m      1\u001b[0m \u001b[0mfile\u001b[0m \u001b[1;33m=\u001b[0m \u001b[1;34m'oco2_LtCO2_220101_B11014Ar_220728214731s.nc4'\u001b[0m\u001b[1;33m\u001b[0m\u001b[1;33m\u001b[0m\u001b[0m\n\u001b[1;32m----> 2\u001b[1;33m \u001b[0mds\u001b[0m \u001b[1;33m=\u001b[0m \u001b[0mnc\u001b[0m\u001b[1;33m.\u001b[0m\u001b[0mDataset\u001b[0m\u001b[1;33m(\u001b[0m\u001b[0mfile\u001b[0m\u001b[1;33m)\u001b[0m\u001b[1;33m\u001b[0m\u001b[1;33m\u001b[0m\u001b[0m\n\u001b[0m",
      "\u001b[1;32msrc\\netCDF4\\_netCDF4.pyx\u001b[0m in \u001b[0;36mnetCDF4._netCDF4.Dataset.__init__\u001b[1;34m()\u001b[0m\n",
      "\u001b[1;32msrc\\netCDF4\\_netCDF4.pyx\u001b[0m in \u001b[0;36mnetCDF4._netCDF4._ensure_nc_success\u001b[1;34m()\u001b[0m\n",
      "\u001b[1;31mFileNotFoundError\u001b[0m: [Errno 2] No such file or directory: b'oco2_LtCO2_220101_B11014Ar_220728214731s.nc4'"
     ]
    }
   ],
   "source": [
    "file = 'oco2_LtCO2_220101_B11014Ar_220728214731s.nc4'\n",
    "ds = nc.Dataset(file)"
   ]
  },
  {
   "cell_type": "code",
   "execution_count": 3,
   "metadata": {
    "scrolled": true
   },
   "outputs": [
    {
     "name": "stdout",
     "output_type": "stream",
     "text": [
      "<class 'netCDF4._netCDF4.Dataset'>\n",
      "root group (NETCDF4 data model, file format HDF5):\n",
      "    filter_function: oco2_xco2_quality_flag_b11\n",
      "    bc_function: oco2_xco2_bias_correct_b11\n",
      "    l2_reader: read_oco_l2_b11\n",
      "    lite_definition_module: lite_file_definition_oco2_b11\n",
      "    filtering state: Filtered with oco2_lite_file_prefilter_b11\n",
      "    warn_level_function: None\n",
      "    Bias_Correction_land: XCO2_Bias_Corrected = (XCO2_Raw + 0.830*(dpfrac + 0.0) + 0.0330*(co2_grad_del + 5.00) + 0.270*((logDWS>(-5.0)) + 5.00) - 6.70*(aod_fine - 0.0300) + 33.0*(aod_ic - 0.00600) - 0.480*(albedo_quad_wco2*1e6 + 0.0600) - footprint_bias)/0.99970\n",
      "    Bias_Correction_landTG: XCO2_Bias_Corrected = (XCO2_Raw + 0.770*(dpfrac + 0.300) + 0.0250*(co2_grad_del + 0.0) + 0.250*((logDWS>(-5.0)) + 5.00) - footprint_bias)/0.99970\n",
      "    Bias_Correction_oceanGL: XCO2_Bias_Corrected = (XCO2_Raw + 0.250*(dp_sco2 + 0.0) - 8.00*(sqrt(albedo_wco2) - 0.280) + 0.0175*(co2_grad_del + 15.0) + 2.00*(max_declocking_2 + 0.0) + 14.0*(aod_wa - 0.0100) - 2.00*(err - 0.460) - footprint_bias)/0.99970\n",
      "    Bias_Correction_oceanND: XCO2_Bias_Corrected = (XCO2_Raw + 0.250*(dp_sco2 + 0.0) - 8.00*(sqrt(albedo_wco2) - 0.280) + 0.0175*(co2_grad_del + 15.0) + 2.00*(max_declocking_2 + 0.0) + 14.0*(aod_wa - 0.0100) - 2.00*(err - 0.460) - footprint_bias)/0.99970\n",
      "    Footprint_bias_land: Assumed footprint biases in xco2 [ppm] for footprints 1-8: -0.51, -0.22, -0.16, -0.12, 0.09, 0.37, 0.15, 0.40\n",
      "    Footprint_bias_landTG: Assumed footprint biases in xco2 [ppm] for footprints 1-8: -0.51, -0.22, -0.16, -0.12, 0.09, 0.37, 0.15, 0.40\n",
      "    Footprint_bias_oceanGL: Assumed footprint biases in xco2 [ppm] for footprints 1-8: -0.50, -0.16, -0.16, -0.16, 0.06, 0.33, 0.10, 0.49\n",
      "    Footprint_bias_oceanND: Assumed footprint biases in xco2 [ppm] for footprints 1-8: -0.50, -0.16, -0.16, -0.16, 0.06, 0.33, 0.10, 0.49\n",
      "    Bias_Uncertainty: Bias correction parameter uncertainties are given in the data users guide.\n",
      "    Note_regarding_bias_correction: There is some uncertainty in not only the bias correction coefficients but in the chosen parameters themselves. This release bias correction may be slightly different that of previous releases, and also somewhat different from those of previous ACOS algorithm versions.  This has to do with details of the particular retrieval algorithm version and is considered normal (though not ideal).\n",
      "    BuildId: B11.0.14\n",
      "    CollectionLabel: Lite_B11014Ar_r02\n",
      "    gesdisc_collection: 11r\n",
      "    identifier_product_doi: 10.5067/5Q8JLZL1VD4A\n",
      "    identifier_product_doi_authority: http://dx.doi.org/\n",
      "    Platform: OCO-2\n",
      "    Sensor: OCO-2\n",
      "    L2FullPhysicsExeVersion: None\n",
      "    title: OCO-2 L2FP Lite Output\n",
      "    contact: Chris O'Dell: Christopher.ODell@colostate.edu\n",
      "    creation_date: Jul 28, 2022\n",
      "    dimensions(sizes): sounding_id(135096), levels(20), bands(3), vertices(4), footprints(8), source_files(15), epoch_dimension(7)\n",
      "    variables(dimensions): uint64 sounding_id(sounding_id), int16 levels(levels), int16 bands(bands), int16 vertices(vertices), int16 footprints(footprints), int16 date(sounding_id, epoch_dimension), float32 latitude(sounding_id), float32 longitude(sounding_id), float64 time(sounding_id), float32 solar_zenith_angle(sounding_id), float32 sensor_zenith_angle(sounding_id), int8 xco2_quality_flag(sounding_id), uint64 xco2_qf_bitflag(sounding_id), uint8 xco2_qf_simple_bitflag(sounding_id), <class 'str'> source_files(source_files), uint8 file_index(sounding_id), float32 vertex_latitude(sounding_id, vertices), float32 vertex_longitude(sounding_id, vertices), float32 xco2(sounding_id), float32 xco2_uncertainty(sounding_id), float32 xco2_apriori(sounding_id), float32 pressure_levels(sounding_id, levels), float32 co2_profile_apriori(sounding_id, levels), float32 xco2_averaging_kernel(sounding_id, levels), float32 pressure_weight(sounding_id, levels)\n",
      "    groups: Meteorology, Preprocessors, Retrieval, Sounding\n"
     ]
    }
   ],
   "source": [
    "print(ds)"
   ]
  },
  {
   "cell_type": "code",
   "execution_count": 4,
   "metadata": {
    "scrolled": true
   },
   "outputs": [
    {
     "name": "stdout",
     "output_type": "stream",
     "text": [
      "{'filter_function': 'oco2_xco2_quality_flag_b11', 'bc_function': 'oco2_xco2_bias_correct_b11', 'l2_reader': 'read_oco_l2_b11', 'lite_definition_module': 'lite_file_definition_oco2_b11', 'filtering state': 'Filtered with oco2_lite_file_prefilter_b11', 'warn_level_function': 'None', 'Bias_Correction_land': 'XCO2_Bias_Corrected = (XCO2_Raw + 0.830*(dpfrac + 0.0) + 0.0330*(co2_grad_del + 5.00) + 0.270*((logDWS>(-5.0)) + 5.00) - 6.70*(aod_fine - 0.0300) + 33.0*(aod_ic - 0.00600) - 0.480*(albedo_quad_wco2*1e6 + 0.0600) - footprint_bias)/0.99970', 'Bias_Correction_landTG': 'XCO2_Bias_Corrected = (XCO2_Raw + 0.770*(dpfrac + 0.300) + 0.0250*(co2_grad_del + 0.0) + 0.250*((logDWS>(-5.0)) + 5.00) - footprint_bias)/0.99970', 'Bias_Correction_oceanGL': 'XCO2_Bias_Corrected = (XCO2_Raw + 0.250*(dp_sco2 + 0.0) - 8.00*(sqrt(albedo_wco2) - 0.280) + 0.0175*(co2_grad_del + 15.0) + 2.00*(max_declocking_2 + 0.0) + 14.0*(aod_wa - 0.0100) - 2.00*(err - 0.460) - footprint_bias)/0.99970', 'Bias_Correction_oceanND': 'XCO2_Bias_Corrected = (XCO2_Raw + 0.250*(dp_sco2 + 0.0) - 8.00*(sqrt(albedo_wco2) - 0.280) + 0.0175*(co2_grad_del + 15.0) + 2.00*(max_declocking_2 + 0.0) + 14.0*(aod_wa - 0.0100) - 2.00*(err - 0.460) - footprint_bias)/0.99970', 'Footprint_bias_land': 'Assumed footprint biases in xco2 [ppm] for footprints 1-8: -0.51, -0.22, -0.16, -0.12, 0.09, 0.37, 0.15, 0.40', 'Footprint_bias_landTG': 'Assumed footprint biases in xco2 [ppm] for footprints 1-8: -0.51, -0.22, -0.16, -0.12, 0.09, 0.37, 0.15, 0.40', 'Footprint_bias_oceanGL': 'Assumed footprint biases in xco2 [ppm] for footprints 1-8: -0.50, -0.16, -0.16, -0.16, 0.06, 0.33, 0.10, 0.49', 'Footprint_bias_oceanND': 'Assumed footprint biases in xco2 [ppm] for footprints 1-8: -0.50, -0.16, -0.16, -0.16, 0.06, 0.33, 0.10, 0.49', 'Bias_Uncertainty': 'Bias correction parameter uncertainties are given in the data users guide.', 'Note_regarding_bias_correction': 'There is some uncertainty in not only the bias correction coefficients but in the chosen parameters themselves. This release bias correction may be slightly different that of previous releases, and also somewhat different from those of previous ACOS algorithm versions.  This has to do with details of the particular retrieval algorithm version and is considered normal (though not ideal).', 'BuildId': 'B11.0.14', 'CollectionLabel': 'Lite_B11014Ar_r02', 'gesdisc_collection': '11r', 'identifier_product_doi': '10.5067/5Q8JLZL1VD4A', 'identifier_product_doi_authority': 'http://dx.doi.org/', 'Platform': 'OCO-2', 'Sensor': 'OCO-2', 'L2FullPhysicsExeVersion': 'None', 'title': 'OCO-2 L2FP Lite Output', 'contact': \"Chris O'Dell: Christopher.ODell@colostate.edu\", 'creation_date': 'Jul 28, 2022'}\n"
     ]
    }
   ],
   "source": [
    "print(ds.__dict__)"
   ]
  },
  {
   "cell_type": "code",
   "execution_count": 5,
   "metadata": {},
   "outputs": [
    {
     "name": "stdout",
     "output_type": "stream",
     "text": [
      "<class 'netCDF4._netCDF4.Variable'>\n",
      "uint64 sounding_id(sounding_id)\n",
      "    units: YYYYMMDDhhmmssmf\n",
      "    long_name: OCO2 Sounding ID\n",
      "    missing_value: 0\n",
      "    comment: from scan time in UTC\n",
      "unlimited dimensions: \n",
      "current shape = (135096,)\n",
      "filling on, default _FillValue of 18446744073709551614 used\n",
      "<class 'netCDF4._netCDF4.Variable'>\n",
      "int16 levels(levels)\n",
      "unlimited dimensions: \n",
      "current shape = (20,)\n",
      "filling on, default _FillValue of -32767 used\n",
      "<class 'netCDF4._netCDF4.Variable'>\n",
      "int16 bands(bands)\n",
      "unlimited dimensions: \n",
      "current shape = (3,)\n",
      "filling on, default _FillValue of -32767 used\n",
      "<class 'netCDF4._netCDF4.Variable'>\n",
      "int16 vertices(vertices)\n",
      "unlimited dimensions: \n",
      "current shape = (4,)\n",
      "filling on, default _FillValue of -32767 used\n",
      "<class 'netCDF4._netCDF4.Variable'>\n",
      "int16 footprints(footprints)\n",
      "unlimited dimensions: \n",
      "current shape = (8,)\n",
      "filling on, default _FillValue of -32767 used\n",
      "<class 'netCDF4._netCDF4.Variable'>\n",
      "int16 date(sounding_id, epoch_dimension)\n",
      "    units: none\n",
      "    long_name: Observation date and time matching sounding_id\n",
      "    missing_value: -9999\n",
      "    comment: Year, month (1-12), day (1-31), hour (0-23), minute (0-59), second (0-59), millisecond (0,300,or 700). Note this time is chosen to correspond exactly to the first 15 digits of sounding_id\n",
      "unlimited dimensions: \n",
      "current shape = (135096, 7)\n",
      "filling on, default _FillValue of -32767 used\n",
      "<class 'netCDF4._netCDF4.Variable'>\n",
      "float32 latitude(sounding_id)\n",
      "    units: degrees_north\n",
      "    long_name: latitude\n",
      "    missing_value: -999999.0\n",
      "    comment: center latitude of the measurement\n",
      "unlimited dimensions: \n",
      "current shape = (135096,)\n",
      "filling on, default _FillValue of 9.969209968386869e+36 used\n",
      "<class 'netCDF4._netCDF4.Variable'>\n",
      "float32 longitude(sounding_id)\n",
      "    units: degrees_east\n",
      "    long_name: longitude\n",
      "    missing_value: -999999.0\n",
      "    comment: center longitude of the measurement\n",
      "unlimited dimensions: \n",
      "current shape = (135096,)\n",
      "filling on, default _FillValue of 9.969209968386869e+36 used\n",
      "<class 'netCDF4._netCDF4.Variable'>\n",
      "float64 time(sounding_id)\n",
      "    units: seconds since 1970-01-01 00:00:00\n",
      "    long_name: time\n",
      "    missing_value: -999999.0\n",
      "unlimited dimensions: \n",
      "current shape = (135096,)\n",
      "filling on, default _FillValue of 9.969209968386869e+36 used\n",
      "<class 'netCDF4._netCDF4.Variable'>\n",
      "float32 solar_zenith_angle(sounding_id)\n",
      "    units: degrees\n",
      "    long_name: sounding_solar_zenith\n",
      "    missing_value: -999999.0\n",
      "    comment: solar zenith angle at the time of the measurement\n",
      "unlimited dimensions: \n",
      "current shape = (135096,)\n",
      "filling on, default _FillValue of 9.969209968386869e+36 used\n",
      "<class 'netCDF4._netCDF4.Variable'>\n",
      "float32 sensor_zenith_angle(sounding_id)\n",
      "    units: degrees\n",
      "    long_name: sounding_zenith\n",
      "    missing_value: -999999.0\n",
      "    comment: zenith angle of the satellite at the time of the measurement\n",
      "unlimited dimensions: \n",
      "current shape = (135096,)\n",
      "filling on, default _FillValue of 9.969209968386869e+36 used\n",
      "<class 'netCDF4._netCDF4.Variable'>\n",
      "int8 xco2_quality_flag(sounding_id)\n",
      "    units: none\n",
      "    long_name: XCO2_Quality_Flag\n",
      "    missing_value: 127\n",
      "    comment: 0=Good, 1=Bad\n",
      "unlimited dimensions: \n",
      "current shape = (135096,)\n",
      "filling on, default _FillValue of -127 ignored\n",
      "<class 'netCDF4._netCDF4.Variable'>\n",
      "uint64 xco2_qf_bitflag(sounding_id)\n",
      "    units: none\n",
      "    long_name: xco2_quality_flag bitflag\n",
      "    missing_value: 0\n",
      "    comment: xco2_quality_flag bit flag\n",
      "    qf_variables: co2_ratio, h2o_ratio, altitude_stddev, max_declocking_wco2, dp_o2a, dpfrac, co2_grad_del, albedo_slope_sco2, aod_total, aod_ice, albedo_sco2, albedo_quad_wco2, albedo_quad_sco2, rms_rel_wco2, rms_rel_sco2, chi2_sco2, deltaT, aod_fine, aod_water, dust_height, aod_strataer, aod_seasalt, fs_rel, dws, dp_abp, snow_flag, brdf_weight_slope_sco2, dp_sco2, chi2_wco2, max_declocking_sco2, albedo_difference, brdf_weight_slope_wco2, albedo_o2a, xco2_uncertainty, abs(eof3_1_rel), ice_height, airmass, windspeed\n",
      "unlimited dimensions: \n",
      "current shape = (135096,)\n",
      "filling on, default _FillValue of 18446744073709551614 used\n",
      "<class 'netCDF4._netCDF4.Variable'>\n",
      "uint8 xco2_qf_simple_bitflag(sounding_id)\n",
      "    units: none\n",
      "    long_name: xco2_quality_flag simple bitflag\n",
      "    missing_value: -1\n",
      "    comment: Bits: 0=Direct Exclusion; 1=Signal-related; 2=Preprocessor-related; 3=Surface reflectivity related; 4=Cloud+Aerosol related; 5=Fit Quality related; 6=Other Retrieval variables; 7=Unused.\n",
      "unlimited dimensions: \n",
      "current shape = (135096,)\n",
      "filling on, default _FillValue of 255 ignored\n",
      "<class 'netCDF4._netCDF4.Variable'>\n",
      "vlen source_files(source_files)\n",
      "    units: none\n",
      "    long_name: L2 Source File\n",
      "    missing_value: Missing\n",
      "    comment: Source L2 File Names for these soundings\n",
      "vlen data type: <class 'str'>\n",
      "unlimited dimensions: \n",
      "current shape = (15,)\n",
      "<class 'netCDF4._netCDF4.Variable'>\n",
      "uint8 file_index(sounding_id)\n",
      "    units: none\n",
      "    long_name: L2 File Index\n",
      "    missing_value: -1\n",
      "    comment: 1-Based Index of L2 File for each sounding\n",
      "unlimited dimensions: \n",
      "current shape = (135096,)\n",
      "filling on, default _FillValue of 255 ignored\n",
      "<class 'netCDF4._netCDF4.Variable'>\n",
      "float32 vertex_latitude(sounding_id, vertices)\n",
      "    units: degrees_north\n",
      "    long_name: vertex_latitude\n",
      "    missing_value: -999999.0\n",
      "    comment: corner latitudes of the measurement FOV\n",
      "unlimited dimensions: \n",
      "current shape = (135096, 4)\n",
      "filling on, default _FillValue of 9.969209968386869e+36 used\n",
      "<class 'netCDF4._netCDF4.Variable'>\n",
      "float32 vertex_longitude(sounding_id, vertices)\n",
      "    units: degrees_east\n",
      "    long_name: vertex_longitude\n",
      "    missing_value: -999999.0\n",
      "    comment: corner longitudes of the measurement FOV\n",
      "unlimited dimensions: \n",
      "current shape = (135096, 4)\n",
      "filling on, default _FillValue of 9.969209968386869e+36 used\n",
      "<class 'netCDF4._netCDF4.Variable'>\n",
      "float32 xco2(sounding_id)\n",
      "    units: ppm\n",
      "    long_name: XCO2\n",
      "    missing_value: -999999.0\n",
      "    comment: Column-averaged dry-air mole fraction of CO2, including bias correction, on X2007 CO2 scale. To convert to X2019 scale, we recommend using equation (6) of Hall et al., 2021:  \"Revision of the World Meteorological Organization Global Atmosphere Watch (WMO/GAW) CO2 calibration scale,\" Atmos. Meas. Tech., 14(4):3015-3032, DOI 10.5194/amt-14-3015-2021.\n",
      "    Coordinates: time longitude latitude\n",
      "unlimited dimensions: \n",
      "current shape = (135096,)\n",
      "filling on, default _FillValue of 9.969209968386869e+36 used\n",
      "<class 'netCDF4._netCDF4.Variable'>\n",
      "float32 xco2_uncertainty(sounding_id)\n",
      "    units: ppm\n",
      "    long_name: XCO2_Posterior_Error\n",
      "    missing_value: -999999.0\n",
      "    comment: This uncertainty is purely noise-driven and does not include most potential systematic errors\n",
      "unlimited dimensions: \n",
      "current shape = (135096,)\n",
      "filling on, default _FillValue of 9.969209968386869e+36 used\n",
      "<class 'netCDF4._netCDF4.Variable'>\n",
      "float32 xco2_apriori(sounding_id)\n",
      "    units: ppm\n",
      "    long_name: A priori XCO2 Value\n",
      "    missing_value: -999999.0\n",
      "    comment: The a priori CO2 profile uses the same formulation as used for TCCON GGG2020 retrievals\n",
      "unlimited dimensions: \n",
      "current shape = (135096,)\n",
      "filling on, default _FillValue of 9.969209968386869e+36 used\n",
      "<class 'netCDF4._netCDF4.Variable'>\n",
      "float32 pressure_levels(sounding_id, levels)\n",
      "    units: hPa\n",
      "    long_name: Pressure_Levels\n",
      "    missing_value: -999999.0\n",
      "    comment: Pressure at each level; Defined on layer boundaries. These are oriented space-to-surface, so the first element defines the TOA, the last element defines the surface.\n",
      "unlimited dimensions: \n",
      "current shape = (135096, 20)\n",
      "filling on, default _FillValue of 9.969209968386869e+36 used\n",
      "<class 'netCDF4._netCDF4.Variable'>\n",
      "float32 co2_profile_apriori(sounding_id, levels)\n",
      "    units: ppm\n",
      "    long_name: CO2 Apriori Profile\n",
      "    missing_value: -999999.0\n",
      "    comment: The a priori CO2 profile uses the same formulation as used for TCCON GGG2020 retrievalsDefined on layer boundaries. These are oriented space-to-surface, so the first element defines the TOA, the last element defines the surface.\n",
      "unlimited dimensions: \n",
      "current shape = (135096, 20)\n",
      "filling on, default _FillValue of 9.969209968386869e+36 used\n",
      "<class 'netCDF4._netCDF4.Variable'>\n",
      "float32 xco2_averaging_kernel(sounding_id, levels)\n",
      "    units: none\n",
      "    long_name: XCO2 Column Averaging Kernel\n",
      "    missing_value: -999999.0\n",
      "    comment: Normalized XCO2 averaging kernel; Defined on layer boundaries. These are oriented space-to-surface, so the first element defines the TOA, the last element defines the surface.\n",
      "unlimited dimensions: \n",
      "current shape = (135096, 20)\n",
      "filling on, default _FillValue of 9.969209968386869e+36 used\n",
      "<class 'netCDF4._netCDF4.Variable'>\n",
      "float32 pressure_weight(sounding_id, levels)\n",
      "    units: none\n",
      "    long_name: Pressure Weighting Function\n",
      "    missing_value: -999999.0\n",
      "    comment: Pressure weighting function for each level; Defined on layer boundaries. These are oriented space-to-surface, so the first element defines the TOA, the last element defines the surface.\n",
      "unlimited dimensions: \n",
      "current shape = (135096, 20)\n",
      "filling on, default _FillValue of 9.969209968386869e+36 used\n"
     ]
    }
   ],
   "source": [
    "for dim in ds.variables.values():\n",
    "    print(dim)"
   ]
  },
  {
   "cell_type": "code",
   "execution_count": 6,
   "metadata": {},
   "outputs": [
    {
     "ename": "ImportError",
     "evalue": "Missing optional dependency 'pytables'.  Use pip or conda to install pytables.",
     "output_type": "error",
     "traceback": [
      "\u001b[0;31m---------------------------------------------------------------------------\u001b[0m",
      "\u001b[0;31mModuleNotFoundError\u001b[0m                       Traceback (most recent call last)",
      "File \u001b[0;32m~/anaconda3/envs/tri_nit/lib/python3.11/site-packages/pandas/compat/_optional.py:141\u001b[0m, in \u001b[0;36mimport_optional_dependency\u001b[0;34m(name, extra, errors, min_version)\u001b[0m\n\u001b[1;32m    140\u001b[0m \u001b[39mtry\u001b[39;00m:\n\u001b[0;32m--> 141\u001b[0m     module \u001b[39m=\u001b[39m importlib\u001b[39m.\u001b[39;49mimport_module(name)\n\u001b[1;32m    142\u001b[0m \u001b[39mexcept\u001b[39;00m \u001b[39mImportError\u001b[39;00m:\n",
      "File \u001b[0;32m~/anaconda3/envs/tri_nit/lib/python3.11/importlib/__init__.py:126\u001b[0m, in \u001b[0;36mimport_module\u001b[0;34m(name, package)\u001b[0m\n\u001b[1;32m    125\u001b[0m         level \u001b[39m+\u001b[39m\u001b[39m=\u001b[39m \u001b[39m1\u001b[39m\n\u001b[0;32m--> 126\u001b[0m \u001b[39mreturn\u001b[39;00m _bootstrap\u001b[39m.\u001b[39;49m_gcd_import(name[level:], package, level)\n",
      "File \u001b[0;32m<frozen importlib._bootstrap>:1206\u001b[0m, in \u001b[0;36m_gcd_import\u001b[0;34m(name, package, level)\u001b[0m\n",
      "File \u001b[0;32m<frozen importlib._bootstrap>:1178\u001b[0m, in \u001b[0;36m_find_and_load\u001b[0;34m(name, import_)\u001b[0m\n",
      "File \u001b[0;32m<frozen importlib._bootstrap>:1142\u001b[0m, in \u001b[0;36m_find_and_load_unlocked\u001b[0;34m(name, import_)\u001b[0m\n",
      "\u001b[0;31mModuleNotFoundError\u001b[0m: No module named 'tables'",
      "\nDuring handling of the above exception, another exception occurred:\n",
      "\u001b[0;31mImportError\u001b[0m                               Traceback (most recent call last)",
      "Cell \u001b[0;32mIn[6], line 1\u001b[0m\n\u001b[0;32m----> 1\u001b[0m df \u001b[39m=\u001b[39m pd\u001b[39m.\u001b[39;49mread_hdf(\u001b[39m\"\u001b[39;49m\u001b[39moco2_L2StdGL_45213a_230101_B11008_230103045740.h5\u001b[39;49m\u001b[39m\"\u001b[39;49m)\n",
      "File \u001b[0;32m~/anaconda3/envs/tri_nit/lib/python3.11/site-packages/pandas/io/pytables.py:416\u001b[0m, in \u001b[0;36mread_hdf\u001b[0;34m(path_or_buf, key, mode, errors, where, start, stop, columns, iterator, chunksize, **kwargs)\u001b[0m\n\u001b[1;32m    413\u001b[0m \u001b[39mif\u001b[39;00m \u001b[39mnot\u001b[39;00m exists:\n\u001b[1;32m    414\u001b[0m     \u001b[39mraise\u001b[39;00m \u001b[39mFileNotFoundError\u001b[39;00m(\u001b[39mf\u001b[39m\u001b[39m\"\u001b[39m\u001b[39mFile \u001b[39m\u001b[39m{\u001b[39;00mpath_or_buf\u001b[39m}\u001b[39;00m\u001b[39m does not exist\u001b[39m\u001b[39m\"\u001b[39m)\n\u001b[0;32m--> 416\u001b[0m store \u001b[39m=\u001b[39m HDFStore(path_or_buf, mode\u001b[39m=\u001b[39;49mmode, errors\u001b[39m=\u001b[39;49merrors, \u001b[39m*\u001b[39;49m\u001b[39m*\u001b[39;49mkwargs)\n\u001b[1;32m    417\u001b[0m \u001b[39m# can't auto open/close if we are using an iterator\u001b[39;00m\n\u001b[1;32m    418\u001b[0m \u001b[39m# so delegate to the iterator\u001b[39;00m\n\u001b[1;32m    419\u001b[0m auto_close \u001b[39m=\u001b[39m \u001b[39mTrue\u001b[39;00m\n",
      "File \u001b[0;32m~/anaconda3/envs/tri_nit/lib/python3.11/site-packages/pandas/io/pytables.py:559\u001b[0m, in \u001b[0;36mHDFStore.__init__\u001b[0;34m(self, path, mode, complevel, complib, fletcher32, **kwargs)\u001b[0m\n\u001b[1;32m    556\u001b[0m \u001b[39mif\u001b[39;00m \u001b[39m\"\u001b[39m\u001b[39mformat\u001b[39m\u001b[39m\"\u001b[39m \u001b[39min\u001b[39;00m kwargs:\n\u001b[1;32m    557\u001b[0m     \u001b[39mraise\u001b[39;00m \u001b[39mValueError\u001b[39;00m(\u001b[39m\"\u001b[39m\u001b[39mformat is not a defined argument for HDFStore\u001b[39m\u001b[39m\"\u001b[39m)\n\u001b[0;32m--> 559\u001b[0m tables \u001b[39m=\u001b[39m import_optional_dependency(\u001b[39m\"\u001b[39;49m\u001b[39mtables\u001b[39;49m\u001b[39m\"\u001b[39;49m)\n\u001b[1;32m    561\u001b[0m \u001b[39mif\u001b[39;00m complib \u001b[39mis\u001b[39;00m \u001b[39mnot\u001b[39;00m \u001b[39mNone\u001b[39;00m \u001b[39mand\u001b[39;00m complib \u001b[39mnot\u001b[39;00m \u001b[39min\u001b[39;00m tables\u001b[39m.\u001b[39mfilters\u001b[39m.\u001b[39mall_complibs:\n\u001b[1;32m    562\u001b[0m     \u001b[39mraise\u001b[39;00m \u001b[39mValueError\u001b[39;00m(\n\u001b[1;32m    563\u001b[0m         \u001b[39mf\u001b[39m\u001b[39m\"\u001b[39m\u001b[39mcomplib only supports \u001b[39m\u001b[39m{\u001b[39;00mtables\u001b[39m.\u001b[39mfilters\u001b[39m.\u001b[39mall_complibs\u001b[39m}\u001b[39;00m\u001b[39m compression.\u001b[39m\u001b[39m\"\u001b[39m\n\u001b[1;32m    564\u001b[0m     )\n",
      "File \u001b[0;32m~/anaconda3/envs/tri_nit/lib/python3.11/site-packages/pandas/compat/_optional.py:144\u001b[0m, in \u001b[0;36mimport_optional_dependency\u001b[0;34m(name, extra, errors, min_version)\u001b[0m\n\u001b[1;32m    142\u001b[0m \u001b[39mexcept\u001b[39;00m \u001b[39mImportError\u001b[39;00m:\n\u001b[1;32m    143\u001b[0m     \u001b[39mif\u001b[39;00m errors \u001b[39m==\u001b[39m \u001b[39m\"\u001b[39m\u001b[39mraise\u001b[39m\u001b[39m\"\u001b[39m:\n\u001b[0;32m--> 144\u001b[0m         \u001b[39mraise\u001b[39;00m \u001b[39mImportError\u001b[39;00m(msg)\n\u001b[1;32m    145\u001b[0m     \u001b[39melse\u001b[39;00m:\n\u001b[1;32m    146\u001b[0m         \u001b[39mreturn\u001b[39;00m \u001b[39mNone\u001b[39;00m\n",
      "\u001b[0;31mImportError\u001b[0m: Missing optional dependency 'pytables'.  Use pip or conda to install pytables."
     ]
    }
   ],
   "source": [
    "df = pd.read_hdf(\"oco2_L2StdGL_45213a_230101_B11008_230103045740.h5\")"
   ]
  },
  {
   "cell_type": "code",
   "execution_count": 7,
   "metadata": {},
   "outputs": [
    {
     "name": "stdout",
     "output_type": "stream",
     "text": [
      "<KeysViewHDF5 ['AerosolParam', 'AerosolSubColumn', 'AerosolType', 'AlbedoWavelength', 'AncFile', 'EuclidDim', 'Frame', 'Gap', 'InputPtr', 'L2FullPhysicsInputPtr', 'Layer', 'Level', 'MetLevel', 'O2Slice', 'OrbitParamPtr', 'Retrieval', 'Sounding', 'SoundingPosition', 'Spectrum', 'StrongCO2Slice', 'Vertex', 'WeakCO2Slice']>\n"
     ]
    }
   ],
   "source": [
    "with h5py.File('oco2_L2StdGL_45213a_230101_B11008_230103045740.h5', 'r') as f:\n",
    "    print(f[\"Dimensions\"].keys())"
   ]
  },
  {
   "cell_type": "code",
   "execution_count": 8,
   "metadata": {},
   "outputs": [
    {
     "name": "stdout",
     "output_type": "stream",
     "text": [
      "<KeysViewHDF5 ['Meteorology', 'Preprocessors', 'Retrieval', 'Sounding', 'bands', 'co2_profile_apriori', 'date', 'epoch_dimension', 'file_index', 'footprints', 'latitude', 'levels', 'longitude', 'pressure_levels', 'pressure_weight', 'sensor_zenith_angle', 'solar_zenith_angle', 'sounding_id', 'source_files', 'time', 'vertex_latitude', 'vertex_longitude', 'vertices', 'xco2', 'xco2_apriori', 'xco2_averaging_kernel', 'xco2_qf_bitflag', 'xco2_qf_simple_bitflag', 'xco2_quality_flag', 'xco2_uncertainty']>\n"
     ]
    }
   ],
   "source": [
    "with h5py.File('oco2_LtCO2_220101_B11014Ar_220728214731s.nc4', 'r') as f:\n",
    "    print(f.keys())"
   ]
  },
  {
   "cell_type": "code",
   "execution_count": 9,
   "metadata": {},
   "outputs": [
    {
     "name": "stdout",
     "output_type": "stream",
     "text": [
      "<HDF5 dataset \"latitude\": shape (135096,), type \"<f4\">\n"
     ]
    }
   ],
   "source": [
    "with h5py.File('oco2_LtCO2_220101_B11014Ar_220728214731s.nc4', 'r') as f:\n",
    "    print(f[\"latitude\"])"
   ]
  },
  {
   "cell_type": "code",
   "execution_count": 10,
   "metadata": {},
   "outputs": [
    {
     "ename": "FileNotFoundError",
     "evalue": "[Errno 2] No such file or directory: 'df_oco2.csv'",
     "output_type": "error",
     "traceback": [
      "\u001b[0;31m---------------------------------------------------------------------------\u001b[0m",
      "\u001b[0;31mFileNotFoundError\u001b[0m                         Traceback (most recent call last)",
      "Cell \u001b[0;32mIn[10], line 5\u001b[0m\n\u001b[1;32m      2\u001b[0m \u001b[39mimport\u001b[39;00m \u001b[39mpandas\u001b[39;00m \u001b[39mas\u001b[39;00m \u001b[39mpd\u001b[39;00m\n\u001b[1;32m      4\u001b[0m \u001b[39m# Load the XCO2 data from OCO-2 and GOSAT\u001b[39;00m\n\u001b[0;32m----> 5\u001b[0m df_oco2 \u001b[39m=\u001b[39m pd\u001b[39m.\u001b[39;49mread_csv(\u001b[39m\"\u001b[39;49m\u001b[39mdf_oco2.csv\u001b[39;49m\u001b[39m\"\u001b[39;49m)\n\u001b[1;32m      6\u001b[0m df_gosat \u001b[39m=\u001b[39m pd\u001b[39m.\u001b[39mread_csv(\u001b[39m\"\u001b[39m\u001b[39mdf_gosat.csv\u001b[39m\u001b[39m\"\u001b[39m)\n\u001b[1;32m      8\u001b[0m \u001b[39m# Align the data in terms of time and location\u001b[39;00m\n",
      "File \u001b[0;32m~/anaconda3/envs/tri_nit/lib/python3.11/site-packages/pandas/util/_decorators.py:211\u001b[0m, in \u001b[0;36mdeprecate_kwarg.<locals>._deprecate_kwarg.<locals>.wrapper\u001b[0;34m(*args, **kwargs)\u001b[0m\n\u001b[1;32m    209\u001b[0m     \u001b[39melse\u001b[39;00m:\n\u001b[1;32m    210\u001b[0m         kwargs[new_arg_name] \u001b[39m=\u001b[39m new_arg_value\n\u001b[0;32m--> 211\u001b[0m \u001b[39mreturn\u001b[39;00m func(\u001b[39m*\u001b[39;49margs, \u001b[39m*\u001b[39;49m\u001b[39m*\u001b[39;49mkwargs)\n",
      "File \u001b[0;32m~/anaconda3/envs/tri_nit/lib/python3.11/site-packages/pandas/util/_decorators.py:331\u001b[0m, in \u001b[0;36mdeprecate_nonkeyword_arguments.<locals>.decorate.<locals>.wrapper\u001b[0;34m(*args, **kwargs)\u001b[0m\n\u001b[1;32m    325\u001b[0m \u001b[39mif\u001b[39;00m \u001b[39mlen\u001b[39m(args) \u001b[39m>\u001b[39m num_allow_args:\n\u001b[1;32m    326\u001b[0m     warnings\u001b[39m.\u001b[39mwarn(\n\u001b[1;32m    327\u001b[0m         msg\u001b[39m.\u001b[39mformat(arguments\u001b[39m=\u001b[39m_format_argument_list(allow_args)),\n\u001b[1;32m    328\u001b[0m         \u001b[39mFutureWarning\u001b[39;00m,\n\u001b[1;32m    329\u001b[0m         stacklevel\u001b[39m=\u001b[39mfind_stack_level(),\n\u001b[1;32m    330\u001b[0m     )\n\u001b[0;32m--> 331\u001b[0m \u001b[39mreturn\u001b[39;00m func(\u001b[39m*\u001b[39;49margs, \u001b[39m*\u001b[39;49m\u001b[39m*\u001b[39;49mkwargs)\n",
      "File \u001b[0;32m~/anaconda3/envs/tri_nit/lib/python3.11/site-packages/pandas/io/parsers/readers.py:950\u001b[0m, in \u001b[0;36mread_csv\u001b[0;34m(filepath_or_buffer, sep, delimiter, header, names, index_col, usecols, squeeze, prefix, mangle_dupe_cols, dtype, engine, converters, true_values, false_values, skipinitialspace, skiprows, skipfooter, nrows, na_values, keep_default_na, na_filter, verbose, skip_blank_lines, parse_dates, infer_datetime_format, keep_date_col, date_parser, dayfirst, cache_dates, iterator, chunksize, compression, thousands, decimal, lineterminator, quotechar, quoting, doublequote, escapechar, comment, encoding, encoding_errors, dialect, error_bad_lines, warn_bad_lines, on_bad_lines, delim_whitespace, low_memory, memory_map, float_precision, storage_options)\u001b[0m\n\u001b[1;32m    935\u001b[0m kwds_defaults \u001b[39m=\u001b[39m _refine_defaults_read(\n\u001b[1;32m    936\u001b[0m     dialect,\n\u001b[1;32m    937\u001b[0m     delimiter,\n\u001b[0;32m   (...)\u001b[0m\n\u001b[1;32m    946\u001b[0m     defaults\u001b[39m=\u001b[39m{\u001b[39m\"\u001b[39m\u001b[39mdelimiter\u001b[39m\u001b[39m\"\u001b[39m: \u001b[39m\"\u001b[39m\u001b[39m,\u001b[39m\u001b[39m\"\u001b[39m},\n\u001b[1;32m    947\u001b[0m )\n\u001b[1;32m    948\u001b[0m kwds\u001b[39m.\u001b[39mupdate(kwds_defaults)\n\u001b[0;32m--> 950\u001b[0m \u001b[39mreturn\u001b[39;00m _read(filepath_or_buffer, kwds)\n",
      "File \u001b[0;32m~/anaconda3/envs/tri_nit/lib/python3.11/site-packages/pandas/io/parsers/readers.py:605\u001b[0m, in \u001b[0;36m_read\u001b[0;34m(filepath_or_buffer, kwds)\u001b[0m\n\u001b[1;32m    602\u001b[0m _validate_names(kwds\u001b[39m.\u001b[39mget(\u001b[39m\"\u001b[39m\u001b[39mnames\u001b[39m\u001b[39m\"\u001b[39m, \u001b[39mNone\u001b[39;00m))\n\u001b[1;32m    604\u001b[0m \u001b[39m# Create the parser.\u001b[39;00m\n\u001b[0;32m--> 605\u001b[0m parser \u001b[39m=\u001b[39m TextFileReader(filepath_or_buffer, \u001b[39m*\u001b[39;49m\u001b[39m*\u001b[39;49mkwds)\n\u001b[1;32m    607\u001b[0m \u001b[39mif\u001b[39;00m chunksize \u001b[39mor\u001b[39;00m iterator:\n\u001b[1;32m    608\u001b[0m     \u001b[39mreturn\u001b[39;00m parser\n",
      "File \u001b[0;32m~/anaconda3/envs/tri_nit/lib/python3.11/site-packages/pandas/io/parsers/readers.py:1442\u001b[0m, in \u001b[0;36mTextFileReader.__init__\u001b[0;34m(self, f, engine, **kwds)\u001b[0m\n\u001b[1;32m   1439\u001b[0m     \u001b[39mself\u001b[39m\u001b[39m.\u001b[39moptions[\u001b[39m\"\u001b[39m\u001b[39mhas_index_names\u001b[39m\u001b[39m\"\u001b[39m] \u001b[39m=\u001b[39m kwds[\u001b[39m\"\u001b[39m\u001b[39mhas_index_names\u001b[39m\u001b[39m\"\u001b[39m]\n\u001b[1;32m   1441\u001b[0m \u001b[39mself\u001b[39m\u001b[39m.\u001b[39mhandles: IOHandles \u001b[39m|\u001b[39m \u001b[39mNone\u001b[39;00m \u001b[39m=\u001b[39m \u001b[39mNone\u001b[39;00m\n\u001b[0;32m-> 1442\u001b[0m \u001b[39mself\u001b[39m\u001b[39m.\u001b[39m_engine \u001b[39m=\u001b[39m \u001b[39mself\u001b[39;49m\u001b[39m.\u001b[39;49m_make_engine(f, \u001b[39mself\u001b[39;49m\u001b[39m.\u001b[39;49mengine)\n",
      "File \u001b[0;32m~/anaconda3/envs/tri_nit/lib/python3.11/site-packages/pandas/io/parsers/readers.py:1735\u001b[0m, in \u001b[0;36mTextFileReader._make_engine\u001b[0;34m(self, f, engine)\u001b[0m\n\u001b[1;32m   1733\u001b[0m     \u001b[39mif\u001b[39;00m \u001b[39m\"\u001b[39m\u001b[39mb\u001b[39m\u001b[39m\"\u001b[39m \u001b[39mnot\u001b[39;00m \u001b[39min\u001b[39;00m mode:\n\u001b[1;32m   1734\u001b[0m         mode \u001b[39m+\u001b[39m\u001b[39m=\u001b[39m \u001b[39m\"\u001b[39m\u001b[39mb\u001b[39m\u001b[39m\"\u001b[39m\n\u001b[0;32m-> 1735\u001b[0m \u001b[39mself\u001b[39m\u001b[39m.\u001b[39mhandles \u001b[39m=\u001b[39m get_handle(\n\u001b[1;32m   1736\u001b[0m     f,\n\u001b[1;32m   1737\u001b[0m     mode,\n\u001b[1;32m   1738\u001b[0m     encoding\u001b[39m=\u001b[39;49m\u001b[39mself\u001b[39;49m\u001b[39m.\u001b[39;49moptions\u001b[39m.\u001b[39;49mget(\u001b[39m\"\u001b[39;49m\u001b[39mencoding\u001b[39;49m\u001b[39m\"\u001b[39;49m, \u001b[39mNone\u001b[39;49;00m),\n\u001b[1;32m   1739\u001b[0m     compression\u001b[39m=\u001b[39;49m\u001b[39mself\u001b[39;49m\u001b[39m.\u001b[39;49moptions\u001b[39m.\u001b[39;49mget(\u001b[39m\"\u001b[39;49m\u001b[39mcompression\u001b[39;49m\u001b[39m\"\u001b[39;49m, \u001b[39mNone\u001b[39;49;00m),\n\u001b[1;32m   1740\u001b[0m     memory_map\u001b[39m=\u001b[39;49m\u001b[39mself\u001b[39;49m\u001b[39m.\u001b[39;49moptions\u001b[39m.\u001b[39;49mget(\u001b[39m\"\u001b[39;49m\u001b[39mmemory_map\u001b[39;49m\u001b[39m\"\u001b[39;49m, \u001b[39mFalse\u001b[39;49;00m),\n\u001b[1;32m   1741\u001b[0m     is_text\u001b[39m=\u001b[39;49mis_text,\n\u001b[1;32m   1742\u001b[0m     errors\u001b[39m=\u001b[39;49m\u001b[39mself\u001b[39;49m\u001b[39m.\u001b[39;49moptions\u001b[39m.\u001b[39;49mget(\u001b[39m\"\u001b[39;49m\u001b[39mencoding_errors\u001b[39;49m\u001b[39m\"\u001b[39;49m, \u001b[39m\"\u001b[39;49m\u001b[39mstrict\u001b[39;49m\u001b[39m\"\u001b[39;49m),\n\u001b[1;32m   1743\u001b[0m     storage_options\u001b[39m=\u001b[39;49m\u001b[39mself\u001b[39;49m\u001b[39m.\u001b[39;49moptions\u001b[39m.\u001b[39;49mget(\u001b[39m\"\u001b[39;49m\u001b[39mstorage_options\u001b[39;49m\u001b[39m\"\u001b[39;49m, \u001b[39mNone\u001b[39;49;00m),\n\u001b[1;32m   1744\u001b[0m )\n\u001b[1;32m   1745\u001b[0m \u001b[39massert\u001b[39;00m \u001b[39mself\u001b[39m\u001b[39m.\u001b[39mhandles \u001b[39mis\u001b[39;00m \u001b[39mnot\u001b[39;00m \u001b[39mNone\u001b[39;00m\n\u001b[1;32m   1746\u001b[0m f \u001b[39m=\u001b[39m \u001b[39mself\u001b[39m\u001b[39m.\u001b[39mhandles\u001b[39m.\u001b[39mhandle\n",
      "File \u001b[0;32m~/anaconda3/envs/tri_nit/lib/python3.11/site-packages/pandas/io/common.py:856\u001b[0m, in \u001b[0;36mget_handle\u001b[0;34m(path_or_buf, mode, encoding, compression, memory_map, is_text, errors, storage_options)\u001b[0m\n\u001b[1;32m    851\u001b[0m \u001b[39melif\u001b[39;00m \u001b[39misinstance\u001b[39m(handle, \u001b[39mstr\u001b[39m):\n\u001b[1;32m    852\u001b[0m     \u001b[39m# Check whether the filename is to be opened in binary mode.\u001b[39;00m\n\u001b[1;32m    853\u001b[0m     \u001b[39m# Binary mode does not support 'encoding' and 'newline'.\u001b[39;00m\n\u001b[1;32m    854\u001b[0m     \u001b[39mif\u001b[39;00m ioargs\u001b[39m.\u001b[39mencoding \u001b[39mand\u001b[39;00m \u001b[39m\"\u001b[39m\u001b[39mb\u001b[39m\u001b[39m\"\u001b[39m \u001b[39mnot\u001b[39;00m \u001b[39min\u001b[39;00m ioargs\u001b[39m.\u001b[39mmode:\n\u001b[1;32m    855\u001b[0m         \u001b[39m# Encoding\u001b[39;00m\n\u001b[0;32m--> 856\u001b[0m         handle \u001b[39m=\u001b[39m \u001b[39mopen\u001b[39;49m(\n\u001b[1;32m    857\u001b[0m             handle,\n\u001b[1;32m    858\u001b[0m             ioargs\u001b[39m.\u001b[39;49mmode,\n\u001b[1;32m    859\u001b[0m             encoding\u001b[39m=\u001b[39;49mioargs\u001b[39m.\u001b[39;49mencoding,\n\u001b[1;32m    860\u001b[0m             errors\u001b[39m=\u001b[39;49merrors,\n\u001b[1;32m    861\u001b[0m             newline\u001b[39m=\u001b[39;49m\u001b[39m\"\u001b[39;49m\u001b[39m\"\u001b[39;49m,\n\u001b[1;32m    862\u001b[0m         )\n\u001b[1;32m    863\u001b[0m     \u001b[39melse\u001b[39;00m:\n\u001b[1;32m    864\u001b[0m         \u001b[39m# Binary mode\u001b[39;00m\n\u001b[1;32m    865\u001b[0m         handle \u001b[39m=\u001b[39m \u001b[39mopen\u001b[39m(handle, ioargs\u001b[39m.\u001b[39mmode)\n",
      "\u001b[0;31mFileNotFoundError\u001b[0m: [Errno 2] No such file or directory: 'df_oco2.csv'"
     ]
    }
   ],
   "source": [
    "import numpy as np\n",
    "import pandas as pd\n",
    "\n",
    "# Load the XCO2 data from OCO-2 and GOSAT\n",
    "df_oco2 = pd.read_csv(\"df_oco2.csv\")\n",
    "df_gosat = pd.read_csv(\"df_gosat.csv\")\n",
    "\n",
    "# Align the data in terms of time and location\n",
    "df_oco2.sort_values(by=[\"time\", \"latitude\", \"longitude\"], inplace=True)\n",
    "df_gosat.sort_values(by=[\"time\", \"latitude\", \"longitude\"], inplace=True)\n",
    "\n",
    "# Merge the data by taking the average of the XCO2 values for a given location and time\n",
    "combined_data = pd.DataFrame(columns=[\"time\", \"latitude\", \"longitude\", \"xco2\"])\n",
    "oco2_index = 0\n",
    "gosat_index = 0\n",
    "while oco2_index < len(df_oco2) and gosat_index < len(df_gosat):\n",
    "    oco2_time = df_oco2.iloc[oco2_index][\"time\"]\n",
    "    gosat_time = df_gosat.iloc[gosat_index][\"time\"]\n",
    "    if oco2_time < gosat_time:\n",
    "        oco2_index += 1\n",
    "    elif oco2_time > gosat_time:\n",
    "        gosat_index += 1\n",
    "    else:\n",
    "        oco2_latitude = df_oco2.iloc[oco2_index][\"latitude\"]\n",
    "        gosat_latitude = df_gosat.iloc[gosat_index][\"latitude\"]\n",
    "        oco2_longitude = df_oco2.iloc[oco2_index][\"longitude\"]\n",
    "        gosat_longitude = df_gosat.iloc[gosat_index][\"longitude\"]\n",
    "        if abs(oco2_latitude - gosat_latitude) < 1e-6 and abs(oco2_longitude - gosat_longitude) < 1e-6:\n",
    "            combined_xco2 = (df_oco2.iloc[oco2_index][\"xco2\"] + df_gosat.iloc[gosat_index][\"xco2\"]) / 2\n",
    "            combined_data = combined_data.append({\"time\": oco2_time, \"latitude\": oco2_latitude, \"longitude\": oco2_longitude, \"xco2\": combined_xco2}, ignore_index=True)\n",
    "            oco2_index += 1\n",
    "            gosat_index += 1\n",
    "\n",
    "# Save the combined data to a CSV file\n",
    "combined_data.to_csv(\"combined_data.csv\", index=False)\n",
    "\n"
   ]
  },
  {
   "cell_type": "code",
   "execution_count": 11,
   "metadata": {},
   "outputs": [],
   "source": [
    "f_gosat = nc.Dataset(\"gosat_2016_ja1.nc4\")\n",
    "f_oco2 = nc.Dataset(\"oco2_2016_jan1.nc4\")"
   ]
  },
  {
   "cell_type": "code",
   "execution_count": 12,
   "metadata": {},
   "outputs": [
    {
     "data": {
      "text/plain": [
       "masked_array(data=1.4516064e+09,\n",
       "             mask=False,\n",
       "       fill_value=1e+20)"
      ]
     },
     "execution_count": 12,
     "metadata": {},
     "output_type": "execute_result"
    }
   ],
   "source": [
    "f_oco2[\"time\"][0]"
   ]
  },
  {
   "cell_type": "code",
   "execution_count": 13,
   "metadata": {},
   "outputs": [
    {
     "ename": "AttributeError",
     "evalue": "NetCDF: Attribute not found",
     "output_type": "error",
     "traceback": [
      "\u001b[0;31m---------------------------------------------------------------------------\u001b[0m",
      "\u001b[0;31mAttributeError\u001b[0m                            Traceback (most recent call last)",
      "Cell \u001b[0;32mIn[13], line 1\u001b[0m\n\u001b[0;32m----> 1\u001b[0m f_gosat\u001b[39m.\u001b[39;49mkeys()\n",
      "File \u001b[0;32msrc/netCDF4/_netCDF4.pyx:3141\u001b[0m, in \u001b[0;36mnetCDF4._netCDF4.Dataset.__getattr__\u001b[0;34m()\u001b[0m\n",
      "File \u001b[0;32msrc/netCDF4/_netCDF4.pyx:3082\u001b[0m, in \u001b[0;36mnetCDF4._netCDF4.Dataset.getncattr\u001b[0;34m()\u001b[0m\n",
      "File \u001b[0;32msrc/netCDF4/_netCDF4.pyx:1532\u001b[0m, in \u001b[0;36mnetCDF4._netCDF4._get_att\u001b[0;34m()\u001b[0m\n",
      "File \u001b[0;32msrc/netCDF4/_netCDF4.pyx:2028\u001b[0m, in \u001b[0;36mnetCDF4._netCDF4._ensure_nc_success\u001b[0;34m()\u001b[0m\n",
      "\u001b[0;31mAttributeError\u001b[0m: NetCDF: Attribute not found"
     ]
    }
   ],
   "source": [
    "f_gosat.keys()"
   ]
  },
  {
   "cell_type": "code",
   "execution_count": 14,
   "metadata": {},
   "outputs": [],
   "source": [
    "df_oco2 = pd.DataFrame(columns=[\"xco2\",\"latitude\",\"longitude\",\"time\"])"
   ]
  },
  {
   "cell_type": "code",
   "execution_count": 15,
   "metadata": {},
   "outputs": [],
   "source": [
    "df_oco2[\"xco2\"] = f_oco2[\"xco2\"][:10000000]\n",
    "df_oco2[\"latitude\"] = f_oco2[\"latitude\"][:10000000]\n",
    "df_oco2[\"longitude\"] = f_oco2[\"longitude\"][:10000000]\n",
    "df_oco2[\"time\"] = f_oco2[\"time\"][:10000000]"
   ]
  },
  {
   "cell_type": "code",
   "execution_count": 16,
   "metadata": {},
   "outputs": [
    {
     "data": {
      "text/html": [
       "<div>\n",
       "<style scoped>\n",
       "    .dataframe tbody tr th:only-of-type {\n",
       "        vertical-align: middle;\n",
       "    }\n",
       "\n",
       "    .dataframe tbody tr th {\n",
       "        vertical-align: top;\n",
       "    }\n",
       "\n",
       "    .dataframe thead th {\n",
       "        text-align: right;\n",
       "    }\n",
       "</style>\n",
       "<table border=\"1\" class=\"dataframe\">\n",
       "  <thead>\n",
       "    <tr style=\"text-align: right;\">\n",
       "      <th></th>\n",
       "      <th>xco2</th>\n",
       "      <th>latitude</th>\n",
       "      <th>longitude</th>\n",
       "      <th>time</th>\n",
       "    </tr>\n",
       "  </thead>\n",
       "  <tbody>\n",
       "    <tr>\n",
       "      <th>0</th>\n",
       "      <td>400.449890</td>\n",
       "      <td>-3.628539</td>\n",
       "      <td>-157.433411</td>\n",
       "      <td>1.451606e+09</td>\n",
       "    </tr>\n",
       "    <tr>\n",
       "      <th>1</th>\n",
       "      <td>400.224304</td>\n",
       "      <td>-3.639151</td>\n",
       "      <td>-157.430817</td>\n",
       "      <td>1.451606e+09</td>\n",
       "    </tr>\n",
       "    <tr>\n",
       "      <th>2</th>\n",
       "      <td>400.457947</td>\n",
       "      <td>-3.649849</td>\n",
       "      <td>-157.428299</td>\n",
       "      <td>1.451606e+09</td>\n",
       "    </tr>\n",
       "    <tr>\n",
       "      <th>3</th>\n",
       "      <td>399.878815</td>\n",
       "      <td>-3.660598</td>\n",
       "      <td>-157.425873</td>\n",
       "      <td>1.451606e+09</td>\n",
       "    </tr>\n",
       "    <tr>\n",
       "      <th>4</th>\n",
       "      <td>400.196655</td>\n",
       "      <td>-3.671286</td>\n",
       "      <td>-157.423538</td>\n",
       "      <td>1.451606e+09</td>\n",
       "    </tr>\n",
       "  </tbody>\n",
       "</table>\n",
       "</div>"
      ],
      "text/plain": [
       "         xco2  latitude   longitude          time\n",
       "0  400.449890 -3.628539 -157.433411  1.451606e+09\n",
       "1  400.224304 -3.639151 -157.430817  1.451606e+09\n",
       "2  400.457947 -3.649849 -157.428299  1.451606e+09\n",
       "3  399.878815 -3.660598 -157.425873  1.451606e+09\n",
       "4  400.196655 -3.671286 -157.423538  1.451606e+09"
      ]
     },
     "execution_count": 16,
     "metadata": {},
     "output_type": "execute_result"
    }
   ],
   "source": [
    "df_oco2.head()"
   ]
  },
  {
   "cell_type": "code",
   "execution_count": 17,
   "metadata": {},
   "outputs": [
    {
     "name": "stderr",
     "output_type": "stream",
     "text": [
      "/home/nikhil/anaconda3/envs/tri_nit/lib/python3.11/site-packages/numpy/lib/function_base.py:4737: UserWarning: Warning: 'partition' will ignore the 'mask' of the MaskedArray.\n",
      "  arr.partition(\n",
      "/home/nikhil/anaconda3/envs/tri_nit/lib/python3.11/site-packages/numpy/lib/function_base.py:4737: UserWarning: Warning: 'partition' will ignore the 'mask' of the MaskedArray.\n",
      "  arr.partition(\n",
      "/home/nikhil/anaconda3/envs/tri_nit/lib/python3.11/site-packages/numpy/lib/function_base.py:4737: UserWarning: Warning: 'partition' will ignore the 'mask' of the MaskedArray.\n",
      "  arr.partition(\n",
      "/home/nikhil/anaconda3/envs/tri_nit/lib/python3.11/site-packages/numpy/lib/function_base.py:4737: UserWarning: Warning: 'partition' will ignore the 'mask' of the MaskedArray.\n",
      "  arr.partition(\n"
     ]
    },
    {
     "data": {
      "text/html": [
       "<div>\n",
       "<style scoped>\n",
       "    .dataframe tbody tr th:only-of-type {\n",
       "        vertical-align: middle;\n",
       "    }\n",
       "\n",
       "    .dataframe tbody tr th {\n",
       "        vertical-align: top;\n",
       "    }\n",
       "\n",
       "    .dataframe thead th {\n",
       "        text-align: right;\n",
       "    }\n",
       "</style>\n",
       "<table border=\"1\" class=\"dataframe\">\n",
       "  <thead>\n",
       "    <tr style=\"text-align: right;\">\n",
       "      <th></th>\n",
       "      <th>xco2</th>\n",
       "      <th>latitude</th>\n",
       "      <th>longitude</th>\n",
       "      <th>time</th>\n",
       "    </tr>\n",
       "  </thead>\n",
       "  <tbody>\n",
       "    <tr>\n",
       "      <th>count</th>\n",
       "      <td>166637.000000</td>\n",
       "      <td>166637.000000</td>\n",
       "      <td>166637.000000</td>\n",
       "      <td>1.666370e+05</td>\n",
       "    </tr>\n",
       "    <tr>\n",
       "      <th>mean</th>\n",
       "      <td>399.110199</td>\n",
       "      <td>-10.815790</td>\n",
       "      <td>5.014174</td>\n",
       "      <td>1.451649e+09</td>\n",
       "    </tr>\n",
       "    <tr>\n",
       "      <th>std</th>\n",
       "      <td>5.986735</td>\n",
       "      <td>34.866135</td>\n",
       "      <td>99.591522</td>\n",
       "      <td>2.324266e+04</td>\n",
       "    </tr>\n",
       "    <tr>\n",
       "      <th>min</th>\n",
       "      <td>329.732452</td>\n",
       "      <td>-84.980553</td>\n",
       "      <td>-179.727386</td>\n",
       "      <td>1.451606e+09</td>\n",
       "    </tr>\n",
       "    <tr>\n",
       "      <th>25%</th>\n",
       "      <td>398.553253</td>\n",
       "      <td>-33.347469</td>\n",
       "      <td>-74.581886</td>\n",
       "      <td>1.451631e+09</td>\n",
       "    </tr>\n",
       "    <tr>\n",
       "      <th>50%</th>\n",
       "      <td>400.140289</td>\n",
       "      <td>-7.414774</td>\n",
       "      <td>21.309219</td>\n",
       "      <td>1.451648e+09</td>\n",
       "    </tr>\n",
       "    <tr>\n",
       "      <th>75%</th>\n",
       "      <td>401.546051</td>\n",
       "      <td>18.839664</td>\n",
       "      <td>86.354759</td>\n",
       "      <td>1.451664e+09</td>\n",
       "    </tr>\n",
       "    <tr>\n",
       "      <th>max</th>\n",
       "      <td>416.550964</td>\n",
       "      <td>54.536709</td>\n",
       "      <td>174.433411</td>\n",
       "      <td>1.451690e+09</td>\n",
       "    </tr>\n",
       "  </tbody>\n",
       "</table>\n",
       "</div>"
      ],
      "text/plain": [
       "                xco2       latitude      longitude          time\n",
       "count  166637.000000  166637.000000  166637.000000  1.666370e+05\n",
       "mean      399.110199     -10.815790       5.014174  1.451649e+09\n",
       "std         5.986735      34.866135      99.591522  2.324266e+04\n",
       "min       329.732452     -84.980553    -179.727386  1.451606e+09\n",
       "25%       398.553253     -33.347469     -74.581886  1.451631e+09\n",
       "50%       400.140289      -7.414774      21.309219  1.451648e+09\n",
       "75%       401.546051      18.839664      86.354759  1.451664e+09\n",
       "max       416.550964      54.536709     174.433411  1.451690e+09"
      ]
     },
     "execution_count": 17,
     "metadata": {},
     "output_type": "execute_result"
    }
   ],
   "source": [
    "df_oco2.describe()"
   ]
  },
  {
   "cell_type": "code",
   "execution_count": 18,
   "metadata": {},
   "outputs": [
    {
     "ename": "NameError",
     "evalue": "name 'df_gosat' is not defined",
     "output_type": "error",
     "traceback": [
      "\u001b[0;31m---------------------------------------------------------------------------\u001b[0m",
      "\u001b[0;31mNameError\u001b[0m                                 Traceback (most recent call last)",
      "Cell \u001b[0;32mIn[18], line 1\u001b[0m\n\u001b[0;32m----> 1\u001b[0m df_gosat\u001b[39m.\u001b[39mdescribe()\n",
      "\u001b[0;31mNameError\u001b[0m: name 'df_gosat' is not defined"
     ]
    }
   ],
   "source": [
    "df_gosat.describe()"
   ]
  },
  {
   "cell_type": "code",
   "execution_count": 19,
   "metadata": {},
   "outputs": [
    {
     "data": {
      "text/html": [
       "<div>\n",
       "<style scoped>\n",
       "    .dataframe tbody tr th:only-of-type {\n",
       "        vertical-align: middle;\n",
       "    }\n",
       "\n",
       "    .dataframe tbody tr th {\n",
       "        vertical-align: top;\n",
       "    }\n",
       "\n",
       "    .dataframe thead th {\n",
       "        text-align: right;\n",
       "    }\n",
       "</style>\n",
       "<table border=\"1\" class=\"dataframe\">\n",
       "  <thead>\n",
       "    <tr style=\"text-align: right;\">\n",
       "      <th></th>\n",
       "      <th>xco2</th>\n",
       "      <th>latitude</th>\n",
       "      <th>longitude</th>\n",
       "      <th>time</th>\n",
       "    </tr>\n",
       "  </thead>\n",
       "  <tbody>\n",
       "    <tr>\n",
       "      <th>0</th>\n",
       "      <td>401.641479</td>\n",
       "      <td>-74.992409</td>\n",
       "      <td>162.841263</td>\n",
       "      <td>1.451608e+09</td>\n",
       "    </tr>\n",
       "    <tr>\n",
       "      <th>1</th>\n",
       "      <td>405.424896</td>\n",
       "      <td>-74.985619</td>\n",
       "      <td>162.859528</td>\n",
       "      <td>1.451608e+09</td>\n",
       "    </tr>\n",
       "    <tr>\n",
       "      <th>2</th>\n",
       "      <td>410.683899</td>\n",
       "      <td>-74.977623</td>\n",
       "      <td>162.877975</td>\n",
       "      <td>1.451608e+09</td>\n",
       "    </tr>\n",
       "    <tr>\n",
       "      <th>3</th>\n",
       "      <td>404.740845</td>\n",
       "      <td>-74.412048</td>\n",
       "      <td>141.735397</td>\n",
       "      <td>1.451608e+09</td>\n",
       "    </tr>\n",
       "    <tr>\n",
       "      <th>4</th>\n",
       "      <td>409.490906</td>\n",
       "      <td>-77.648460</td>\n",
       "      <td>125.245255</td>\n",
       "      <td>1.451609e+09</td>\n",
       "    </tr>\n",
       "  </tbody>\n",
       "</table>\n",
       "</div>"
      ],
      "text/plain": [
       "         xco2   latitude   longitude          time\n",
       "0  401.641479 -74.992409  162.841263  1.451608e+09\n",
       "1  405.424896 -74.985619  162.859528  1.451608e+09\n",
       "2  410.683899 -74.977623  162.877975  1.451608e+09\n",
       "3  404.740845 -74.412048  141.735397  1.451608e+09\n",
       "4  409.490906 -77.648460  125.245255  1.451609e+09"
      ]
     },
     "execution_count": 19,
     "metadata": {},
     "output_type": "execute_result"
    }
   ],
   "source": [
    "df_gosat = pd.DataFrame(columns=[\"xco2\",\"latitude\",\"longitude\",\"time\"])\n",
    "df_gosat[\"xco2\"] = f_gosat[\"xco2\"][:10000000]\n",
    "df_gosat[\"latitude\"] = f_gosat[\"latitude\"][:10000000]\n",
    "df_gosat[\"longitude\"] = f_gosat[\"longitude\"][:10000000]\n",
    "df_gosat[\"time\"] = f_gosat[\"time\"][:10000000]\n",
    "df_gosat.head()"
   ]
  },
  {
   "cell_type": "code",
   "execution_count": 20,
   "metadata": {},
   "outputs": [
    {
     "name": "stdout",
     "output_type": "stream",
     "text": [
      "0.7831883430480957\n",
      "2.7499237060546875\n"
     ]
    }
   ],
   "source": [
    "combined_data = pd.DataFrame(columns=[\"time\", \"latitude\", \"longitude\", \"xco2\"])\n",
    "oco2_index = 0\n",
    "gosat_index = 0\n",
    "diff1 =[]\n",
    "diff2 =[]\n",
    "while oco2_index < len(df_oco2):\n",
    "    oco2_latitude = df_oco2.iloc[oco2_index][\"latitude\"]\n",
    "    oco2_longitude = df_oco2.iloc[oco2_index][\"longitude\"]\n",
    "    while gosat_index < len(df_gosat):\n",
    "        gosat_latitude = df_gosat.iloc[gosat_index][\"latitude\"]\n",
    "        gosat_longitude = df_gosat.iloc[gosat_index][\"longitude\"]\n",
    "        diff1.append(abs(oco2_latitude - gosat_latitude))\n",
    "        diff2.append(abs(oco2_longitude - gosat_longitude))\n",
    "        if abs(oco2_latitude - gosat_latitude) < 1 and abs(oco2_longitude - gosat_longitude) < 1:\n",
    "            combined_xco2 = (df_oco2.iloc[oco2_index][\"xco2\"] + df_gosat.iloc[gosat_index][\"xco2\"]) / 2\n",
    "            combined_data = combined_data.append({\"time\": oco2_time, \"latitude\": oco2_latitude, \"longitude\": oco2_longitude, \"xco2\": combined_xco2},ignore_index=True)\n",
    "        gosat_index += 1\n",
    "    oco2_index += 1\n",
    "    \n",
    "\n",
    "# Save the combined data to a CSV file\n",
    "combined_data.to_csv(\"combined_data.csv\", index=False)\n",
    "print(min(diff1))\n",
    "print(min(diff2))\n"
   ]
  },
  {
   "cell_type": "code",
   "execution_count": 21,
   "metadata": {},
   "outputs": [
    {
     "data": {
      "text/html": [
       "<div>\n",
       "<style scoped>\n",
       "    .dataframe tbody tr th:only-of-type {\n",
       "        vertical-align: middle;\n",
       "    }\n",
       "\n",
       "    .dataframe tbody tr th {\n",
       "        vertical-align: top;\n",
       "    }\n",
       "\n",
       "    .dataframe thead th {\n",
       "        text-align: right;\n",
       "    }\n",
       "</style>\n",
       "<table border=\"1\" class=\"dataframe\">\n",
       "  <thead>\n",
       "    <tr style=\"text-align: right;\">\n",
       "      <th></th>\n",
       "      <th>time</th>\n",
       "      <th>latitude</th>\n",
       "      <th>longitude</th>\n",
       "      <th>xco2</th>\n",
       "    </tr>\n",
       "  </thead>\n",
       "  <tbody>\n",
       "  </tbody>\n",
       "</table>\n",
       "</div>"
      ],
      "text/plain": [
       "Empty DataFrame\n",
       "Columns: [time, latitude, longitude, xco2]\n",
       "Index: []"
      ]
     },
     "execution_count": 21,
     "metadata": {},
     "output_type": "execute_result"
    }
   ],
   "source": [
    "combined_data"
   ]
  },
  {
   "cell_type": "code",
   "execution_count": 22,
   "metadata": {},
   "outputs": [
    {
     "data": {
      "text/plain": [
       "<class 'netCDF4._netCDF4.Variable'>\n",
       "float64 time(sounding_id)\n",
       "    units: seconds since 1970-01-01 00:00:00\n",
       "    long_name: time\n",
       "    missing_value: -999999.0\n",
       "unlimited dimensions: \n",
       "current shape = (166637,)\n",
       "filling on, default _FillValue of 9.969209968386869e+36 used"
      ]
     },
     "execution_count": 22,
     "metadata": {},
     "output_type": "execute_result"
    }
   ],
   "source": [
    "f_oco2[\"time\"]"
   ]
  },
  {
   "cell_type": "code",
   "execution_count": 25,
   "metadata": {},
   "outputs": [
    {
     "ename": "AttributeError",
     "evalue": "module 'xarray' has no attribute 'read_Dataset'",
     "output_type": "error",
     "traceback": [
      "\u001b[0;31m---------------------------------------------------------------------------\u001b[0m",
      "\u001b[0;31mAttributeError\u001b[0m                            Traceback (most recent call last)",
      "Cell \u001b[0;32mIn[25], line 1\u001b[0m\n\u001b[0;32m----> 1\u001b[0m xr\u001b[39m.\u001b[39;49mread_Dataset()\n",
      "\u001b[0;31mAttributeError\u001b[0m: module 'xarray' has no attribute 'read_Dataset'"
     ]
    }
   ],
   "source": [
    "xr.read_Dataset()"
   ]
  },
  {
   "cell_type": "code",
   "execution_count": 28,
   "metadata": {},
   "outputs": [
    {
     "name": "stdout",
     "output_type": "stream",
     "text": [
      "279.35290160430094\n"
     ]
    }
   ],
   "source": [
    "coords_1 = (52.2296756, 21.0122287)\n",
    "coords_2 = (52.406374, 16.9251681)\n",
    "\n",
    "print (geopy.distance.geodesic(coords_1, coords_2).km)"
   ]
  },
  {
   "cell_type": "code",
   "execution_count": null,
   "metadata": {},
   "outputs": [],
   "source": []
  }
 ],
 "metadata": {
  "kernelspec": {
   "display_name": "Python 3 (ipykernel)",
   "language": "python",
   "name": "python3"
  },
  "language_info": {
   "codemirror_mode": {
    "name": "ipython",
    "version": 3
   },
   "file_extension": ".py",
   "mimetype": "text/x-python",
   "name": "python",
   "nbconvert_exporter": "python",
   "pygments_lexer": "ipython3",
   "version": "3.9.7"
  },
  "vscode": {
   "interpreter": {
    "hash": "2279e88b58f6a1cba190a74d88051bdb4345cbdb1ab4a2dd3954fb717681646d"
   }
  }
 },
 "nbformat": 4,
 "nbformat_minor": 2
}
